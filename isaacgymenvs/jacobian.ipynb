{
 "cells": [
  {
   "cell_type": "code",
   "execution_count": null,
   "id": "aabd71ce",
   "metadata": {
    "scrolled": false
   },
   "outputs": [],
   "source": [
    "import isaacgym\n",
    "import isaacgymenvs\n",
    "from isaacgymenvs.utils.reformat import omegaconf_to_dict, print_dict\n",
    "from isaacgymenvs.utils.utils import set_np_formatting, set_seed\n",
    "from isaacgymenvs.utils.rlgames_utils import RLGPUEnv, RLGPUAlgoObserver, get_rlgames_env_creator\n",
    "\n",
    "from rl_games.common import env_configurations, vecenv\n",
    "from rl_games.torch_runner import Runner\n",
    "from rl_games.algos_torch import model_builder\n",
    "\n",
    "from omegaconf import DictConfig, OmegaConf\n",
    "\n",
    "import torch\n",
    "import numpy as np\n",
    "import matplotlib.pyplot as plt"
   ]
  },
  {
   "cell_type": "code",
   "execution_count": null,
   "id": "428e96d7",
   "metadata": {},
   "outputs": [],
   "source": [
    "cfg = OmegaConf.load(\"cfg/config.yaml\")\n",
    "cfg.task_name=\"TrifingerNYU\"\n",
    "cfg.num_envs=1\n",
    "cfg.task=OmegaConf.load(\"cfg/task/TrifingerNYU.yaml\")"
   ]
  },
  {
   "cell_type": "code",
   "execution_count": null,
   "id": "33738f07",
   "metadata": {},
   "outputs": [],
   "source": [
    "device = cfg.sim_device"
   ]
  },
  {
   "cell_type": "code",
   "execution_count": null,
   "id": "23d7bae6",
   "metadata": {},
   "outputs": [],
   "source": [
    "def create_env_thunk(**kwargs):\n",
    "        envs = isaacgymenvs.make(\n",
    "            \n",
    "            cfg.seed,\n",
    "            cfg.task,\n",
    "            cfg.num_envs,\n",
    "            cfg.sim_device,\n",
    "            cfg.rl_device,\n",
    "            headless=True,\n",
    "            cfg=cfg,\n",
    "            **kwargs,\n",
    "        )\n",
    "        return envs"
   ]
  },
  {
   "cell_type": "code",
   "execution_count": null,
   "id": "9dbdd9f9",
   "metadata": {},
   "outputs": [],
   "source": [
    "envs = create_env_thunk()"
   ]
  },
  {
   "cell_type": "code",
   "execution_count": null,
   "id": "c554ca88",
   "metadata": {},
   "outputs": [],
   "source": [
    "# get fingertip states\n",
    "N = 500\n",
    "action_buffer = torch.zeros(N, 9).to(device)\n",
    "ftip_pos_buffer = torch.zeros(N, 9).to(device)\n",
    "ftip_vel_buffer = torch.zeros(N, 9).to(device)\n",
    "jacobian_buffer = torch.zeros(N, 9, 9).to(device)\n",
    "dof_vel_buffer = torch.zeros(N, 9).to(device)\n",
    "\n",
    "for n in range(N):\n",
    "    action = torch.rand(1, 9).to(device) * 2 - 1\n",
    "    obs, rwds, resets, info = envs.step(torch.rand(1, 9).to(cfg.sim_device) * 2 - 1)\n",
    "    action_buffer[n] = action\n",
    "    \n",
    "    q = envs._dof_position\n",
    "    dq = envs._dof_velocity\n",
    "    dof_vel_buffer[n] = dq[0]\n",
    "    \n",
    "    fingertip_state = envs._rigid_body_state[:, envs._fingertip_indices]\n",
    "    fingertip_position = fingertip_state[:, :, 0:3].reshape(envs.num_envs, 9)\n",
    "    fingertip_velocity = fingertip_state[:, :, 7:10].reshape(envs.num_envs, 9)\n",
    "    ftip_pos_buffer[n] = fingertip_position[0]\n",
    "    ftip_vel_buffer[n] = fingertip_velocity[0]\n",
    "    \n",
    "    fid = [5, 12, 19]\n",
    "    jacobian_fingertip_linear = envs._jacobian[:, fid, :3, :]\n",
    "    jacobian_fingertip_linear = jacobian_fingertip_linear.view(\n",
    "                    envs.num_envs, \n",
    "                    3 * envs._dims.NumFingers.value, \n",
    "                    envs._dims.GeneralizedCoordinatesDim.value)\n",
    "    jacobian_buffer[n] = jacobian_fingertip_linear[0]"
   ]
  },
  {
   "cell_type": "code",
   "execution_count": null,
   "id": "9bbad398",
   "metadata": {},
   "outputs": [],
   "source": [
    "ftip_pos_buffer_np = ftip_pos_buffer.cpu().numpy()\n",
    "ftip_vel_buffer_np = ftip_vel_buffer.cpu().numpy()\n",
    "jdq = torch.einsum('bij, bj -> bi', jacobian_buffer, dof_vel_buffer)\n",
    "jdq_np = jdq.cpu().numpy()"
   ]
  },
  {
   "cell_type": "code",
   "execution_count": null,
   "id": "73cae462",
   "metadata": {},
   "outputs": [],
   "source": [
    "dt = 0.02\n",
    "ftip_vel_numdiff = np.diff(ftip_pos_buffer_np, axis=0) / dt\n",
    "ftip_vel_numdiff = np.vstack((np.zeros((1, 9)), ftip_vel_numdiff))"
   ]
  },
  {
   "cell_type": "code",
   "execution_count": null,
   "id": "f7b37621",
   "metadata": {},
   "outputs": [],
   "source": [
    "d = 0\n",
    "# plt.plot(ftip_vel_numdiff[:, d])\n",
    "plt.plot(ftip_vel_buffer_np[:, d])\n",
    "plt.plot(jdq_np[:, d], color='orange', ls='-.')"
   ]
  },
  {
   "cell_type": "code",
   "execution_count": null,
   "id": "f9eb8219",
   "metadata": {},
   "outputs": [],
   "source": [
    "import trifinger_simulation\n",
    "import numpy as np\n",
    "import pinocchio as pin"
   ]
  },
  {
   "cell_type": "code",
   "execution_count": null,
   "id": "1a6869f2",
   "metadata": {},
   "outputs": [],
   "source": [
    "platform = trifinger_simulation.TriFingerPlatform()\n",
    "trifinger = platform.simfinger\n",
    "rmodel = trifinger.kinematics.robot_model\n",
    "rdata = trifinger.kinematics.data\n",
    "ftip_id = trifinger.kinematics.tip_link_ids"
   ]
  },
  {
   "cell_type": "code",
   "execution_count": null,
   "id": "48e7ffd7",
   "metadata": {},
   "outputs": [],
   "source": [
    "q1_np = q1[0].cpu().numpy()\n",
    "dq1_np = dq1[0].cpu().numpy()"
   ]
  },
  {
   "cell_type": "code",
   "execution_count": null,
   "id": "f9f5b63b",
   "metadata": {},
   "outputs": [],
   "source": [
    "trifinger.kinematics.forward_kinematics(q_np)"
   ]
  },
  {
   "cell_type": "code",
   "execution_count": null,
   "id": "e65825db",
   "metadata": {},
   "outputs": [],
   "source": [
    "pin.computeJointJacobians(rmodel, rdata, q_np)\n",
    "pin.framesForwardKinematics(rmodel, rdata, q_np)\n",
    "J_ = []\n",
    "for i in range(3):\n",
    "    J_.append(pin.getFrameJacobian(\n",
    "        rmodel,\n",
    "        rdata,\n",
    "        ftip_id[i],\n",
    "        pin.ReferenceFrame.LOCAL_WORLD_ALIGNED,\n",
    "    )[:3, :])\n",
    "J = np.vstack(J_)"
   ]
  },
  {
   "cell_type": "code",
   "execution_count": null,
   "id": "57119a5f",
   "metadata": {},
   "outputs": [],
   "source": [
    "J @ dq_np # pinocchio, local world aligned"
   ]
  },
  {
   "cell_type": "code",
   "execution_count": null,
   "id": "4bbb7508",
   "metadata": {},
   "outputs": [],
   "source": [
    "jacobian_fingertip_linear[0] @ dq[0] # isaac"
   ]
  },
  {
   "cell_type": "code",
   "execution_count": null,
   "id": "2407ff4c",
   "metadata": {},
   "outputs": [],
   "source": [
    "fingertip_velocity # isaac direct readings"
   ]
  },
  {
   "cell_type": "code",
   "execution_count": null,
   "id": "21364e8d",
   "metadata": {},
   "outputs": [],
   "source": []
  }
 ],
 "metadata": {
  "kernelspec": {
   "display_name": "Python 3 (ipykernel)",
   "language": "python",
   "name": "python3"
  },
  "language_info": {
   "codemirror_mode": {
    "name": "ipython",
    "version": 3
   },
   "file_extension": ".py",
   "mimetype": "text/x-python",
   "name": "python",
   "nbconvert_exporter": "python",
   "pygments_lexer": "ipython3",
   "version": "3.7.12"
  }
 },
 "nbformat": 4,
 "nbformat_minor": 5
}
