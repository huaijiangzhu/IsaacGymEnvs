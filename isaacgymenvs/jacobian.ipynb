{
 "cells": [
  {
   "cell_type": "code",
   "execution_count": null,
   "id": "6a376e97",
   "metadata": {
    "scrolled": true
   },
   "outputs": [],
   "source": [
    "import isaacgym"
   ]
  },
  {
   "cell_type": "code",
   "execution_count": null,
   "id": "8ca6f149",
   "metadata": {},
   "outputs": [],
   "source": [
    "from isaacgymenvs.utils.reformat import omegaconf_to_dict, print_dict\n",
    "from isaacgymenvs.utils.utils import set_np_formatting, set_seed"
   ]
  },
  {
   "cell_type": "code",
   "execution_count": null,
   "id": "5fe60049",
   "metadata": {},
   "outputs": [],
   "source": [
    "from isaacgymenvs.utils.rlgames_utils import RLGPUEnv, RLGPUAlgoObserver, get_rlgames_env_creator\n",
    "from rl_games.common import env_configurations, vecenv\n",
    "from rl_games.torch_runner import Runner\n",
    "from rl_games.algos_torch import model_builder"
   ]
  },
  {
   "cell_type": "code",
   "execution_count": null,
   "id": "ecbce6f3",
   "metadata": {},
   "outputs": [],
   "source": [
    "import isaacgymenvs"
   ]
  },
  {
   "cell_type": "code",
   "execution_count": null,
   "id": "1bf24019",
   "metadata": {},
   "outputs": [],
   "source": [
    "from omegaconf import DictConfig, OmegaConf"
   ]
  },
  {
   "cell_type": "code",
   "execution_count": null,
   "id": "df857ab1",
   "metadata": {},
   "outputs": [],
   "source": [
    "cfg = OmegaConf.load(\"cfg/config.yaml\")"
   ]
  },
  {
   "cell_type": "code",
   "execution_count": null,
   "id": "7fe1f00f",
   "metadata": {},
   "outputs": [],
   "source": [
    "cfg.task_name=\"TrifingerNYU\"\n",
    "cfg.num_envs=1\n",
    "cfg.task=OmegaConf.load(\"cfg/task/TrifingerNYU.yaml\")"
   ]
  },
  {
   "cell_type": "code",
   "execution_count": null,
   "id": "91a8f30f",
   "metadata": {},
   "outputs": [],
   "source": [
    "def create_env_thunk(**kwargs):\n",
    "        envs = isaacgymenvs.make(\n",
    "            \n",
    "            cfg.seed,\n",
    "            cfg.task,\n",
    "            cfg.num_envs,\n",
    "            cfg.sim_device,\n",
    "            cfg.rl_device,\n",
    "            headless=True,\n",
    "            cfg=cfg,\n",
    "            **kwargs,\n",
    "        )\n",
    "        return envs"
   ]
  },
  {
   "cell_type": "code",
   "execution_count": null,
   "id": "cb654e26",
   "metadata": {},
   "outputs": [],
   "source": [
    "# register the rl-games adapter to use inside the runner\n",
    "vecenv.register('RLGPU',\n",
    "                lambda config_name, num_actors, **kwargs: RLGPUEnv(config_name, num_actors, **kwargs))\n",
    "env_configurations.register('rlgpu', {\n",
    "    'vecenv_type': 'RLGPU',\n",
    "    'env_creator': create_env_thunk,\n",
    "})"
   ]
  },
  {
   "cell_type": "code",
   "execution_count": null,
   "id": "1f5c36b2",
   "metadata": {},
   "outputs": [],
   "source": [
    "envs = create_env_thunk()"
   ]
  },
  {
   "cell_type": "code",
   "execution_count": 39,
   "id": "fd1d3fe8",
   "metadata": {},
   "outputs": [
    {
     "data": {
      "text/plain": [
       "{'stiffness': tensor([200., 200., 200., 200., 200., 200., 200., 200., 200.], device='cuda:0'),\n",
       " 'damping': tensor([0.1000, 0.1000, 0.1000, 0.1000, 0.1000, 0.1000, 0.1000, 0.1000, 0.1000],\n",
       "        device='cuda:0')}"
      ]
     },
     "execution_count": 39,
     "metadata": {},
     "output_type": "execute_result"
    }
   ],
   "source": [
    "envs._robot_task_space_gains"
   ]
  },
  {
   "cell_type": "code",
   "execution_count": null,
   "id": "36316444",
   "metadata": {},
   "outputs": [],
   "source": []
  }
 ],
 "metadata": {
  "kernelspec": {
   "display_name": "Python 3 (ipykernel)",
   "language": "python",
   "name": "python3"
  },
  "language_info": {
   "codemirror_mode": {
    "name": "ipython",
    "version": 3
   },
   "file_extension": ".py",
   "mimetype": "text/x-python",
   "name": "python",
   "nbconvert_exporter": "python",
   "pygments_lexer": "ipython3",
   "version": "3.7.12"
  }
 },
 "nbformat": 4,
 "nbformat_minor": 5
}
