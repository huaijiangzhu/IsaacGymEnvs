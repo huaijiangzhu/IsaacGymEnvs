{
 "cells": [
  {
   "cell_type": "code",
   "execution_count": null,
   "id": "cf858be0",
   "metadata": {
    "scrolled": true
   },
   "outputs": [],
   "source": [
    "import isaacgym"
   ]
  },
  {
   "cell_type": "code",
   "execution_count": null,
   "id": "b4fdc701",
   "metadata": {},
   "outputs": [],
   "source": [
    "from isaacgymenvs.utils.reformat import omegaconf_to_dict, print_dict\n",
    "from isaacgymenvs.utils.utils import set_np_formatting, set_seed"
   ]
  },
  {
   "cell_type": "code",
   "execution_count": null,
   "id": "817f6dc5",
   "metadata": {},
   "outputs": [],
   "source": [
    "from isaacgymenvs.utils.rlgames_utils import RLGPUEnv, RLGPUAlgoObserver, get_rlgames_env_creator\n",
    "from rl_games.common import env_configurations, vecenv\n",
    "from rl_games.torch_runner import Runner\n",
    "from rl_games.algos_torch import model_builder"
   ]
  },
  {
   "cell_type": "code",
   "execution_count": null,
   "id": "78ca8455",
   "metadata": {},
   "outputs": [],
   "source": [
    "import isaacgymenvs"
   ]
  },
  {
   "cell_type": "code",
   "execution_count": null,
   "id": "4baebd4c",
   "metadata": {},
   "outputs": [],
   "source": [
    "from omegaconf import DictConfig, OmegaConf"
   ]
  },
  {
   "cell_type": "code",
   "execution_count": null,
   "id": "4032e3f3",
   "metadata": {},
   "outputs": [],
   "source": [
    "cfg = OmegaConf.load(\"cfg/config.yaml\")"
   ]
  },
  {
   "cell_type": "code",
   "execution_count": null,
   "id": "9eea2520",
   "metadata": {},
   "outputs": [],
   "source": [
    "cfg.task_name=\"TrifingerNYU\"\n",
    "cfg.num_envs=1\n",
    "cfg.task=OmegaConf.load(\"cfg/task/TrifingerNYU.yaml\")"
   ]
  },
  {
   "cell_type": "code",
   "execution_count": null,
   "id": "06ec812f",
   "metadata": {},
   "outputs": [],
   "source": [
    "def create_env_thunk(**kwargs):\n",
    "        envs = isaacgymenvs.make(\n",
    "            \n",
    "            cfg.seed,\n",
    "            cfg.task,\n",
    "            cfg.num_envs,\n",
    "            cfg.sim_device,\n",
    "            cfg.rl_device,\n",
    "            headless=True,\n",
    "            cfg=cfg,\n",
    "            **kwargs,\n",
    "        )\n",
    "        return envs"
   ]
  },
  {
   "cell_type": "code",
   "execution_count": null,
   "id": "eb3c3146",
   "metadata": {},
   "outputs": [],
   "source": [
    "# register the rl-games adapter to use inside the runner\n",
    "vecenv.register('RLGPU',\n",
    "                lambda config_name, num_actors, **kwargs: RLGPUEnv(config_name, num_actors, **kwargs))\n",
    "env_configurations.register('rlgpu', {\n",
    "    'vecenv_type': 'RLGPU',\n",
    "    'env_creator': create_env_thunk,\n",
    "})"
   ]
  },
  {
   "cell_type": "code",
   "execution_count": null,
   "id": "2b558009",
   "metadata": {},
   "outputs": [],
   "source": [
    "envs = create_env_thunk()"
   ]
  },
  {
   "cell_type": "code",
   "execution_count": 125,
   "id": "be5aa27f",
   "metadata": {},
   "outputs": [
    {
     "data": {
      "text/plain": [
       "[6, 13, 20]"
      ]
     },
     "execution_count": 125,
     "metadata": {},
     "output_type": "execute_result"
    }
   ],
   "source": [
    "envs._fingertip_indices"
   ]
  },
  {
   "cell_type": "code",
   "execution_count": 186,
   "id": "f1a92b8b",
   "metadata": {},
   "outputs": [],
   "source": [
    "fid = [5 ,12, 19]"
   ]
  },
  {
   "cell_type": "code",
   "execution_count": 196,
   "id": "a26b76fc",
   "metadata": {},
   "outputs": [],
   "source": [
    "jacobian_fingertip_linear = envs._jacobian[:, fid, :3, :]\n",
    "jacobian_fingertip_linear = jacobian_fingertip_linear.view(\n",
    "                envs.num_envs, \n",
    "                3 * envs._dims.NumFingers.value, \n",
    "                envs._dims.GeneralizedCoordinatesDim.value)"
   ]
  },
  {
   "cell_type": "code",
   "execution_count": 197,
   "id": "655d3865",
   "metadata": {},
   "outputs": [],
   "source": [
    "# get fingertip states\n",
    "fingertip_state = envs._rigid_body_state[:, envs._fingertip_indices]\n",
    "fingertip_velocity = fingertip_state[:, :, 7:10].reshape(envs.num_envs, 9)\n",
    "\n",
    "q = envs._dof_position\n",
    "dq = envs._dof_velocity"
   ]
  },
  {
   "cell_type": "code",
   "execution_count": 198,
   "id": "33fa6747",
   "metadata": {},
   "outputs": [],
   "source": [
    "import trifinger_simulation\n",
    "import numpy as np\n",
    "import pinocchio as pin"
   ]
  },
  {
   "cell_type": "code",
   "execution_count": 199,
   "id": "9d289432",
   "metadata": {},
   "outputs": [],
   "source": [
    "platform = trifinger_simulation.TriFingerPlatform()\n",
    "trifinger = platform.simfinger\n",
    "rmodel = trifinger.kinematics.robot_model\n",
    "rdata = trifinger.kinematics.data\n",
    "ftip_id = trifinger.kinematics.tip_link_ids"
   ]
  },
  {
   "cell_type": "code",
   "execution_count": 200,
   "id": "d49db149",
   "metadata": {},
   "outputs": [],
   "source": [
    "q_np = q[0].cpu().numpy()\n",
    "dq_np = dq[0].cpu().numpy()"
   ]
  },
  {
   "cell_type": "code",
   "execution_count": 201,
   "id": "cc473484",
   "metadata": {},
   "outputs": [],
   "source": [
    "pin.computeJointJacobians(rmodel, rdata, q_np)\n",
    "pin.framesForwardKinematics(rmodel, rdata, q_np)\n",
    "J = pin.getFrameJacobian(\n",
    "    rmodel,\n",
    "    rdata,\n",
    "    ftip_id[1],\n",
    "    pin.ReferenceFrame.LOCAL_WORLD_ALIGNED,\n",
    ")[:3, :]"
   ]
  },
  {
   "cell_type": "code",
   "execution_count": 202,
   "id": "e98fdd96",
   "metadata": {},
   "outputs": [
    {
     "data": {
      "text/plain": [
       "array([0.19653007, 0.06740448, 0.52209394])"
      ]
     },
     "execution_count": 202,
     "metadata": {},
     "output_type": "execute_result"
    }
   ],
   "source": [
    "J @ dq_np"
   ]
  },
  {
   "cell_type": "code",
   "execution_count": 203,
   "id": "a7baecb2",
   "metadata": {},
   "outputs": [
    {
     "name": "stdout",
     "output_type": "stream",
     "text": [
      "tensor([-0.1090,  0.1158,  0.3961,  0.1965,  0.0674,  0.5221, -0.0457, -0.1521,\n",
      "         0.3961], device='cuda:0')\n"
     ]
    }
   ],
   "source": [
    "print(jacobian_fingertip_linear[0] @ dq[0])"
   ]
  },
  {
   "cell_type": "code",
   "execution_count": 204,
   "id": "edbbb2ef",
   "metadata": {},
   "outputs": [
    {
     "data": {
      "text/plain": [
       "tensor([[-0.0997,  0.1164, -0.0268,  0.1915,  0.0569, -0.0390, -0.0509, -0.1443,\n",
       "         -0.0268]], device='cuda:0')"
      ]
     },
     "execution_count": 204,
     "metadata": {},
     "output_type": "execute_result"
    }
   ],
   "source": [
    "fingertip_velocity"
   ]
  },
  {
   "cell_type": "code",
   "execution_count": null,
   "id": "87bf936a",
   "metadata": {},
   "outputs": [],
   "source": []
  }
 ],
 "metadata": {
  "kernelspec": {
   "display_name": "Python 3 (ipykernel)",
   "language": "python",
   "name": "python3"
  },
  "language_info": {
   "codemirror_mode": {
    "name": "ipython",
    "version": 3
   },
   "file_extension": ".py",
   "mimetype": "text/x-python",
   "name": "python",
   "nbconvert_exporter": "python",
   "pygments_lexer": "ipython3",
   "version": "3.7.12"
  }
 },
 "nbformat": 4,
 "nbformat_minor": 5
}
