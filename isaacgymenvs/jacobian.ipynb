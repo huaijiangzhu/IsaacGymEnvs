{
 "cells": [
  {
   "cell_type": "code",
   "execution_count": null,
   "id": "4e65e447",
   "metadata": {
    "scrolled": true
   },
   "outputs": [],
   "source": [
    "import isaacgym"
   ]
  },
  {
   "cell_type": "code",
   "execution_count": null,
   "id": "b2d1ff76",
   "metadata": {},
   "outputs": [],
   "source": [
    "from isaacgymenvs.utils.reformat import omegaconf_to_dict, print_dict\n",
    "from isaacgymenvs.utils.utils import set_np_formatting, set_seed"
   ]
  },
  {
   "cell_type": "code",
   "execution_count": null,
   "id": "d836c5df",
   "metadata": {},
   "outputs": [],
   "source": [
    "from isaacgymenvs.utils.rlgames_utils import RLGPUEnv, RLGPUAlgoObserver, get_rlgames_env_creator\n",
    "from rl_games.common import env_configurations, vecenv\n",
    "from rl_games.torch_runner import Runner\n",
    "from rl_games.algos_torch import model_builder\n",
    "import isaacgymenvs\n",
    "from omegaconf import DictConfig, OmegaConf"
   ]
  },
  {
   "cell_type": "code",
   "execution_count": null,
   "id": "58223c6c",
   "metadata": {},
   "outputs": [],
   "source": [
    "cfg = OmegaConf.load(\"cfg/config.yaml\")\n",
    "cfg.task_name=\"TrifingerNYU\"\n",
    "cfg.num_envs=1\n",
    "cfg.task=OmegaConf.load(\"cfg/task/TrifingerNYU.yaml\")"
   ]
  },
  {
   "cell_type": "code",
   "execution_count": null,
   "id": "96058910",
   "metadata": {},
   "outputs": [],
   "source": [
    "def create_env_thunk(**kwargs):\n",
    "        envs = isaacgymenvs.make(\n",
    "            \n",
    "            cfg.seed,\n",
    "            cfg.task,\n",
    "            cfg.num_envs,\n",
    "            cfg.sim_device,\n",
    "            cfg.rl_device,\n",
    "            headless=True,\n",
    "            cfg=cfg,\n",
    "            **kwargs,\n",
    "        )\n",
    "        return envs"
   ]
  },
  {
   "cell_type": "code",
   "execution_count": null,
   "id": "92f83ae4",
   "metadata": {},
   "outputs": [],
   "source": [
    "envs = create_env_thunk()"
   ]
  },
  {
   "cell_type": "code",
   "execution_count": null,
   "id": "e42d4a47",
   "metadata": {},
   "outputs": [],
   "source": [
    "fid = [5, 12, 19]\n",
    "jacobian_fingertip_linear = envs._jacobian[:, fid, :3, :]\n",
    "jacobian_fingertip_linear = jacobian_fingertip_linear.view(\n",
    "                envs.num_envs, \n",
    "                3 * envs._dims.NumFingers.value, \n",
    "                envs._dims.GeneralizedCoordinatesDim.value)"
   ]
  },
  {
   "cell_type": "code",
   "execution_count": null,
   "id": "296caedd",
   "metadata": {},
   "outputs": [],
   "source": [
    "# get fingertip states\n",
    "fingertip_state = envs._rigid_body_state[:, envs._fingertip_indices]\n",
    "fingertip_position = fingertip_state[:, :, 0:3].reshape(envs.num_envs, 9)\n",
    "fingertip_velocity = fingertip_state[:, :, 7:10].reshape(envs.num_envs, 9)\n",
    "\n",
    "q = envs._dof_position\n",
    "dq = envs._dof_velocity"
   ]
  },
  {
   "cell_type": "code",
   "execution_count": null,
   "id": "1e332f06",
   "metadata": {},
   "outputs": [],
   "source": [
    "import trifinger_simulation\n",
    "import numpy as np\n",
    "import pinocchio as pin"
   ]
  },
  {
   "cell_type": "code",
   "execution_count": null,
   "id": "77bdd332",
   "metadata": {},
   "outputs": [],
   "source": [
    "platform = trifinger_simulation.TriFingerPlatform()\n",
    "trifinger = platform.simfinger\n",
    "rmodel = trifinger.kinematics.robot_model\n",
    "rdata = trifinger.kinematics.data\n",
    "ftip_id = trifinger.kinematics.tip_link_ids"
   ]
  },
  {
   "cell_type": "code",
   "execution_count": null,
   "id": "78c95245",
   "metadata": {},
   "outputs": [],
   "source": [
    "q_np = q[0].cpu().numpy()\n",
    "dq_np = dq[0].cpu().numpy()"
   ]
  },
  {
   "cell_type": "code",
   "execution_count": 46,
   "id": "cbac6714",
   "metadata": {},
   "outputs": [
    {
     "data": {
      "text/plain": [
       "[[0.09378661423891241, 0.05057204570721733, -0.02651110164976367],\n",
       " [-0.002945821003218333, -0.10625958173664683, -0.026151022087087444],\n",
       " [-0.09068988308828807, 0.05593559329825963, -0.026511101133743137]]"
      ]
     },
     "execution_count": 46,
     "metadata": {},
     "output_type": "execute_result"
    }
   ],
   "source": [
    "trifinger.kinematics.forward_kinematics(q_np)"
   ]
  },
  {
   "cell_type": "code",
   "execution_count": 47,
   "id": "d5002a6b",
   "metadata": {},
   "outputs": [
    {
     "data": {
      "text/plain": [
       "tensor([[ 0.0938,  0.0506, -0.0265, -0.0029, -0.1063, -0.0262, -0.0907,  0.0559,\n",
       "         -0.0265]], device='cuda:0')"
      ]
     },
     "execution_count": 47,
     "metadata": {},
     "output_type": "execute_result"
    }
   ],
   "source": [
    "fingertip_position"
   ]
  },
  {
   "cell_type": "code",
   "execution_count": null,
   "id": "b4ee63d5",
   "metadata": {},
   "outputs": [],
   "source": [
    "pin.computeJointJacobians(rmodel, rdata, q_np)\n",
    "pin.framesForwardKinematics(rmodel, rdata, q_np)\n",
    "J_ = []\n",
    "for i in range(3):\n",
    "    J_.append(pin.getFrameJacobian(\n",
    "        rmodel,\n",
    "        rdata,\n",
    "        ftip_id[i],\n",
    "        pin.ReferenceFrame.LOCAL_WORLD_ALIGNED,\n",
    "    )[:3, :])\n",
    "J = np.vstack(J_)"
   ]
  },
  {
   "cell_type": "code",
   "execution_count": 48,
   "id": "e45413d1",
   "metadata": {},
   "outputs": [
    {
     "data": {
      "text/plain": [
       "array([-0.10903541,  0.1157873 ,  0.39606528,  0.19653007,  0.06740448,\n",
       "        0.52209394, -0.04569383, -0.15214085,  0.39611274])"
      ]
     },
     "execution_count": 48,
     "metadata": {},
     "output_type": "execute_result"
    }
   ],
   "source": [
    "J @ dq_np # pinocchio, local world aligned"
   ]
  },
  {
   "cell_type": "code",
   "execution_count": 39,
   "id": "290b6a2f",
   "metadata": {},
   "outputs": [
    {
     "data": {
      "text/plain": [
       "tensor([-0.1090,  0.1158,  0.3961,  0.1965,  0.0674,  0.5221, -0.0457, -0.1521,\n",
       "         0.3961], device='cuda:0')"
      ]
     },
     "execution_count": 39,
     "metadata": {},
     "output_type": "execute_result"
    }
   ],
   "source": [
    "jacobian_fingertip_linear[0] @ dq[0] # isaac"
   ]
  },
  {
   "cell_type": "code",
   "execution_count": 40,
   "id": "66c40ec6",
   "metadata": {},
   "outputs": [
    {
     "data": {
      "text/plain": [
       "tensor([[-0.0997,  0.1164, -0.0268,  0.1915,  0.0569, -0.0390, -0.0509, -0.1443,\n",
       "         -0.0268]], device='cuda:0')"
      ]
     },
     "execution_count": 40,
     "metadata": {},
     "output_type": "execute_result"
    }
   ],
   "source": [
    "fingertip_velocity # isaac direct readings"
   ]
  },
  {
   "cell_type": "code",
   "execution_count": null,
   "id": "7c40a509",
   "metadata": {},
   "outputs": [],
   "source": []
  }
 ],
 "metadata": {
  "kernelspec": {
   "display_name": "Python 3 (ipykernel)",
   "language": "python",
   "name": "python3"
  },
  "language_info": {
   "codemirror_mode": {
    "name": "ipython",
    "version": 3
   },
   "file_extension": ".py",
   "mimetype": "text/x-python",
   "name": "python",
   "nbconvert_exporter": "python",
   "pygments_lexer": "ipython3",
   "version": "3.7.12"
  }
 },
 "nbformat": 4,
 "nbformat_minor": 5
}
