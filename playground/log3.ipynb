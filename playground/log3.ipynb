{
 "cells": [
  {
   "cell_type": "code",
   "execution_count": 1,
   "id": "c2b7257a",
   "metadata": {},
   "outputs": [],
   "source": [
    "%matplotlib inline\n",
    "%load_ext autoreload\n",
    "%autoreload 2"
   ]
  },
  {
   "cell_type": "code",
   "execution_count": 2,
   "id": "30b2a8b5",
   "metadata": {},
   "outputs": [],
   "source": [
    "import torch\n",
    "import numpy as np\n",
    "import pinocchio as pin\n",
    "from vecrobotics import *"
   ]
  },
  {
   "cell_type": "code",
   "execution_count": 3,
   "id": "b6d82965",
   "metadata": {},
   "outputs": [],
   "source": [
    "rot_mat = torch.zeros(4, 3, 3)\n",
    "rot_mat[0] = torch.eye(3)\n",
    "rot_mat[1] = torch.tensor(pin.SE3.Random().rotation)\n",
    "\n",
    "omega = np.random.rand(3)\n",
    "omega /= np.linalg.norm(omega)\n",
    "rot_mat[2] = torch.tensor(pin.exp3(np.pi * omega))\n",
    "\n",
    "omega = np.random.rand(3)\n",
    "omega /= np.linalg.norm(omega)\n",
    "rot_mat[3] = torch.tensor(pin.exp3(-np.pi * omega))"
   ]
  },
  {
   "cell_type": "code",
   "execution_count": 4,
   "id": "9bea3899",
   "metadata": {},
   "outputs": [],
   "source": [
    "log_rot_np = np.zeros((4, 3))\n",
    "for i in range(4):\n",
    "    log_rot_np[i] = pin.log3(rot_mat[i].numpy())"
   ]
  },
  {
   "cell_type": "code",
   "execution_count": 5,
   "id": "1c56cb41",
   "metadata": {},
   "outputs": [
    {
     "data": {
      "text/plain": [
       "tensor([[ 0.0000,  0.0000,  0.0000],\n",
       "        [ 1.1936, -1.2422,  1.0922],\n",
       "        [-2.6442, -0.4683, -1.6304],\n",
       "        [-2.6302, -0.2243, -1.7033]])"
      ]
     },
     "execution_count": 5,
     "metadata": {},
     "output_type": "execute_result"
    }
   ],
   "source": [
    "log3(rot_mat)"
   ]
  },
  {
   "cell_type": "code",
   "execution_count": 6,
   "id": "63fd99f9",
   "metadata": {},
   "outputs": [
    {
     "data": {
      "text/plain": [
       "array([[ 0.        ,  0.        ,  0.        ],\n",
       "       [ 1.19361837, -1.24222933,  1.09218629],\n",
       "       [-2.64423623, -0.46828297, -1.63043866],\n",
       "       [-2.63022123, -0.22431945, -1.70329719]])"
      ]
     },
     "execution_count": 6,
     "metadata": {},
     "output_type": "execute_result"
    }
   ],
   "source": [
    "log_rot_np"
   ]
  }
 ],
 "metadata": {
  "kernelspec": {
   "display_name": "Python 3 (ipykernel)",
   "language": "python",
   "name": "python3"
  },
  "language_info": {
   "codemirror_mode": {
    "name": "ipython",
    "version": 3
   },
   "file_extension": ".py",
   "mimetype": "text/x-python",
   "name": "python",
   "nbconvert_exporter": "python",
   "pygments_lexer": "ipython3",
   "version": "3.8.16"
  }
 },
 "nbformat": 4,
 "nbformat_minor": 5
}
