{
 "cells": [
  {
   "cell_type": "code",
   "execution_count": null,
   "id": "1f1cdd43",
   "metadata": {},
   "outputs": [],
   "source": [
    "%load_ext autoreload\n",
    "%autoreload 2"
   ]
  },
  {
   "cell_type": "code",
   "execution_count": null,
   "id": "2021937e",
   "metadata": {},
   "outputs": [],
   "source": [
    "import os\n",
    "import time\n",
    "import pathlib"
   ]
  },
  {
   "cell_type": "code",
   "execution_count": null,
   "id": "516b8fb9",
   "metadata": {},
   "outputs": [],
   "source": [
    "import torch\n",
    "if torch.__version__ >= '2.0.0':\n",
    "    from torch import func as functorch\n",
    "else:\n",
    "    import functorch\n",
    "from fista import QP, FISTA"
   ]
  },
  {
   "cell_type": "code",
   "execution_count": null,
   "id": "f5294aad",
   "metadata": {},
   "outputs": [],
   "source": [
    "if torch.backends.mps.is_available():\n",
    "    device = torch.device(\"mps:0\")\n",
    "elif torch.cuda.is_available():\n",
    "    device = torch.device(\"cuda:0\")\n",
    "else:\n",
    "    device = torch.device(\"cpu\")"
   ]
  },
  {
   "cell_type": "code",
   "execution_count": null,
   "id": "f72dec4d",
   "metadata": {},
   "outputs": [],
   "source": [
    "# test problem \n",
    "# min x1^2 + x2^2 + x3^2 + x1 + 2*x2 s.t. x1 = 0.1, -1 <= x <= 1, mu = 1.0\n",
    "# min x1^2 + x2^2 + x3^2 + 4*x1 + 2*x2 s.t. x2 = 1, -3 <= x <= 3, mu = 1.0\n",
    "\n",
    "num_batches = 2\n",
    "num_vars = 3\n",
    "num_eqc = 1\n",
    "num_boxc = 2\n",
    "\n",
    "# quadratic cost\n",
    "Q = torch.zeros(num_batches, num_vars, num_vars)\n",
    "Q[:, torch.arange(num_vars), torch.arange(num_vars)] = 1\n",
    "\n",
    "q = torch.zeros(num_batches, num_vars)\n",
    "q[0, 0], q[0, 1] = 1., 2.\n",
    "q[1, 0], q[1, 1] = 4., 2.\n",
    "\n",
    "# equality constraints\n",
    "rho = 0.1 # set to zero if no equality constraint is needed\n",
    "A = torch.zeros(num_batches, num_eqc, num_vars)\n",
    "b = torch.zeros(num_batches, num_eqc)\n",
    "A[0, 0, 0], b[0, 0] = 1., 0.1\n",
    "A[1, 0, 1], b[1, 0] = 1., 1.\n",
    "\n",
    "# box constraints\n",
    "lb = torch.zeros(num_batches, num_vars)\n",
    "ub = torch.zeros(num_batches, num_vars)\n",
    "lb[0], ub[0] = -1., 1.\n",
    "lb[1], ub[1] = -3., 3.\n",
    "\n",
    "# friction cone constraints\n",
    "mu = torch.ones(num_batches, 1)"
   ]
  },
  {
   "cell_type": "code",
   "execution_count": null,
   "id": "1c166a2d",
   "metadata": {},
   "outputs": [],
   "source": [
    "def solve(solver, max_it):\n",
    "    solver.reset()\n",
    "    for i in range(max_it):\n",
    "        solver.step()\n",
    "    return solver.prob"
   ]
  },
  {
   "cell_type": "code",
   "execution_count": null,
   "id": "981ceb2f",
   "metadata": {},
   "outputs": [],
   "source": [
    "prob = QP(num_batches, num_vars, num_eqc, friction_coeff=None, device=device)\n",
    "prob.set_data(Q, q, A, b, rho, lb, ub)\n",
    "solver = FISTA(prob, device=device)"
   ]
  },
  {
   "cell_type": "code",
   "execution_count": null,
   "id": "fe4dd0cc",
   "metadata": {},
   "outputs": [],
   "source": [
    "# %timeit -n 100 solve(solver, 100)"
   ]
  },
  {
   "cell_type": "code",
   "execution_count": null,
   "id": "51e0ca71",
   "metadata": {},
   "outputs": [],
   "source": [
    "prob = solve(solver, 100)\n",
    "prob.xk"
   ]
  },
  {
   "cell_type": "code",
   "execution_count": null,
   "id": "583a58dd",
   "metadata": {},
   "outputs": [],
   "source": [
    "# quick test of the friction cone projection\n",
    "forces = torch.ones((2, 6))\n",
    "forces[1, :3] *= 2\n",
    "forces[1, 3:5] *= 0\n",
    "forces[0, 3:6] *= 0\n",
    "forces[0, 5] = -1.\n",
    "print(forces)\n",
    "print(solver.proj_friction_cone(forces, mu))"
   ]
  }
 ],
 "metadata": {
  "kernelspec": {
   "display_name": "Python 3 (ipykernel)",
   "language": "python",
   "name": "python3"
  },
  "language_info": {
   "codemirror_mode": {
    "name": "ipython",
    "version": 3
   },
   "file_extension": ".py",
   "mimetype": "text/x-python",
   "name": "python",
   "nbconvert_exporter": "python",
   "pygments_lexer": "ipython3",
   "version": "3.8.16"
  }
 },
 "nbformat": 4,
 "nbformat_minor": 5
}
