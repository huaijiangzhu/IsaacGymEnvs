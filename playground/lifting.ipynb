{
 "cells": [
  {
   "cell_type": "code",
   "execution_count": 1,
   "id": "c2b7257a",
   "metadata": {},
   "outputs": [],
   "source": [
    "%matplotlib inline\n",
    "%load_ext autoreload\n",
    "%autoreload 2"
   ]
  },
  {
   "cell_type": "code",
   "execution_count": 2,
   "id": "aabd71ce",
   "metadata": {
    "scrolled": false
   },
   "outputs": [
    {
     "name": "stdout",
     "output_type": "stream",
     "text": [
      "Importing module 'gym_38' (/home/hz/devel/isaacgym/python/isaacgym/_bindings/linux-x86_64/gym_38.so)\n",
      "Setting GYM_USD_PLUG_INFO_PATH to /home/hz/devel/isaacgym/python/isaacgym/_bindings/linux-x86_64/usd/plugInfo.json\n"
     ]
    },
    {
     "name": "stderr",
     "output_type": "stream",
     "text": [
      "Warning: Gym version v0.24.1 has a number of critical issues with `gym.make` such that environment observation and action spaces are incorrectly evaluated, raising incorrect errors and warning . It is recommend to downgrading to v0.23.1 or upgrading to v0.25.1\n"
     ]
    },
    {
     "name": "stdout",
     "output_type": "stream",
     "text": [
      "PyTorch version 2.0.0\n",
      "Device count 1\n",
      "/home/hz/devel/isaacgym/python/isaacgym/_bindings/src/gymtorch\n"
     ]
    },
    {
     "name": "stderr",
     "output_type": "stream",
     "text": [
      "Using /home/hz/.cache/torch_extensions/py38_cu117 as PyTorch extensions root...\n",
      "Emitting ninja build file /home/hz/.cache/torch_extensions/py38_cu117/gymtorch/build.ninja...\n",
      "Building extension module gymtorch...\n",
      "Allowing ninja to set a default number of workers... (overridable by setting the environment variable MAX_JOBS=N)\n"
     ]
    },
    {
     "name": "stdout",
     "output_type": "stream",
     "text": [
      "ninja: no work to do.\n"
     ]
    },
    {
     "name": "stderr",
     "output_type": "stream",
     "text": [
      "Loading extension module gymtorch...\n",
      "2023-05-16 18:03:50,790 - INFO - logger - logger initialized\n"
     ]
    },
    {
     "name": "stdout",
     "output_type": "stream",
     "text": [
      "Error: FBX library failed to load - importing FBX data will not succeed. Message: No module named 'fbx'\n",
      "FBX tools must be installed from https://help.autodesk.com/view/FBX/2020/ENU/?guid=FBX_Developer_Help_scripting_with_python_fbx_installing_python_fbx_html\n"
     ]
    },
    {
     "name": "stderr",
     "output_type": "stream",
     "text": [
      "<unknown>:3: DeprecationWarning: invalid escape sequence \\*\n",
      "/home/hz/miniforge3/envs/rlgpu/lib/python3.8/site-packages/torch/utils/tensorboard/__init__.py:4: DeprecationWarning: distutils Version classes are deprecated. Use packaging.version instead.\n",
      "  if not hasattr(tensorboard, \"__version__\") or LooseVersion(\n"
     ]
    }
   ],
   "source": [
    "import isaacgym\n",
    "import isaacgymenvs\n",
    "from isaacgymenvs.utils.reformat import omegaconf_to_dict, print_dict\n",
    "from isaacgymenvs.utils.utils import set_np_formatting, set_seed\n",
    "from isaacgymenvs.utils.rlgames_utils import RLGPUEnv, RLGPUAlgoObserver, get_rlgames_env_creator\n",
    "\n",
    "from rl_games.common import env_configurations, vecenv\n",
    "from rl_games.torch_runner import Runner\n",
    "from rl_games.algos_torch import model_builder\n",
    "\n",
    "from omegaconf import DictConfig, OmegaConf\n",
    "\n",
    "import torch\n",
    "import numpy as np\n",
    "import matplotlib.pyplot as plt\n",
    "\n",
    "from vecrobotics import *\n",
    "from qp_utils import *\n",
    "\n",
    "from fista import FISTA, ForceQP"
   ]
  },
  {
   "cell_type": "code",
   "execution_count": 3,
   "id": "428e96d7",
   "metadata": {},
   "outputs": [],
   "source": [
    "cfg = OmegaConf.load(\"../isaacgymenvs/cfg/config.yaml\")\n",
    "cfg.task_name = \"TrifingerNYU\"\n",
    "cfg.num_envs = 4\n",
    "cfg.task = OmegaConf.load(\"../isaacgymenvs/cfg/task/TrifingerNYU.yaml\")\n",
    "cfg.task.env.command_mode = \"fingertip_diff_force\"\n",
    "cfg.headless = True"
   ]
  },
  {
   "cell_type": "code",
   "execution_count": 4,
   "id": "23d7bae6",
   "metadata": {},
   "outputs": [],
   "source": [
    "def create_env_thunk(**kwargs):\n",
    "    envs = isaacgymenvs.make(\n",
    "            cfg.seed, \n",
    "            cfg.task_name, \n",
    "            cfg.task.env.numEnvs, \n",
    "            cfg.sim_device,\n",
    "            cfg.rl_device,\n",
    "            cfg.graphics_device_id,\n",
    "            cfg.headless,\n",
    "            cfg.multi_gpu,\n",
    "            cfg.capture_video,\n",
    "            cfg.force_render,\n",
    "            cfg,\n",
    "            **kwargs,\n",
    "        )\n",
    "    return envs"
   ]
  },
  {
   "cell_type": "code",
   "execution_count": 5,
   "id": "b1b84736",
   "metadata": {},
   "outputs": [
    {
     "name": "stderr",
     "output_type": "stream",
     "text": [
      "/home/hz/miniforge3/envs/rlgpu/lib/python3.8/site-packages/gym/spaces/box.py:112: UserWarning: \u001b[33mWARN: Box bound precision lowered by casting to float32\u001b[0m\n",
      "  logger.warn(f\"Box bound precision lowered by casting to {self.dtype}\")\n",
      "/home/hz/learning/IsaacGymEnvs/isaacgymenvs/tasks/trifingerNYU.py:1291: DeprecationWarning: an integer is required (got type isaacgym._bindings.linux-x86_64.gym_38.DofDriveMode).  Implicit conversion to integers using __int__ is deprecated, and may be removed in a future version of Python.\n",
      "  robot_asset_options.default_dof_drive_mode = gymapi.DOF_MODE_EFFORT\n"
     ]
    },
    {
     "name": "stdout",
     "output_type": "stream",
     "text": [
      "[Warning] [carb.gym.plugin] useGpu is set, forcing single scene (0 subscenes)\n",
      "Not connected to PVD\n",
      "+++ Using GPU PhysX\n",
      "Physics Engine: PhysX\n",
      "Physics Device: cuda:0\n",
      "GPU Pipeline: enabled\n",
      "Trifinger Robot Asset: \n",
      "\t Number of bodies: 23\n",
      "\t Number of shapes: 39\n",
      "\t Number of dofs: 9\n",
      "\t Number of actuated dofs: 9\n",
      "Trifinger Table Asset: \n",
      "\t Number of bodies: 2\n",
      "\t Number of shapes: 1\n",
      "Trifinger Boundary Asset: \n",
      "\t Number of bodies: 1\n",
      "\t Number of shapes: 41\n",
      "Using VHACD cache directory '/home/hz/.isaacgym/vhacd'\n",
      "Found existing convex decomposition for mesh '/home/hz/learning/IsaacGymEnvs/isaacgymenvs/../assets/trifinger/robot_properties_fingers/meshes/pro/int_sim.stl'\n",
      "Found existing convex decomposition for mesh '/home/hz/learning/IsaacGymEnvs/isaacgymenvs/../assets/trifinger/robot_properties_fingers/meshes/pro/prox-sim.stl'\n",
      "Found existing convex decomposition for mesh '/home/hz/learning/IsaacGymEnvs/isaacgymenvs/../assets/trifinger/robot_properties_fingers/meshes/pro/tip_link_sim.stl'\n",
      "Found existing convex decomposition for mesh '/home/hz/learning/IsaacGymEnvs/isaacgymenvs/../assets/trifinger/robot_properties_fingers/meshes/pro/tip_sim.stl'\n",
      "Found existing convex decomposition for mesh '/home/hz/learning/IsaacGymEnvs/isaacgymenvs/../assets/trifinger/robot_properties_fingers/meshes/high_table_boundary.stl'\n",
      "[Warning] [carb.gym.plugin] Acquiring DOF force tensor, but no actors have DOF force sensors enabled.\n",
      "[Warning] [carb.gym.plugin] -> Enabled DOF force sensors for all eligible actors.\n",
      "MDP Raw observation bounds\n",
      "\tLow: tensor([ -0.3300,   0.0000,  -2.7000,  -0.3300,   0.0000,  -2.7000,  -0.3300,\n",
      "          0.0000,  -2.7000, -10.0000, -10.0000, -10.0000, -10.0000, -10.0000,\n",
      "        -10.0000, -10.0000, -10.0000, -10.0000,  -0.4000,  -0.4000,   0.0000,\n",
      "         -1.0000,  -1.0000,  -1.0000,  -1.0000,  -0.2000,  -0.2000,  -0.2000,\n",
      "         -0.2000,  -0.2000,  -0.2000,  -0.4000,  -0.4000,   0.0000,  -1.0000,\n",
      "         -1.0000,  -1.0000,  -1.0000,  -0.2000,  -0.2000,  -0.2000,  -0.2000,\n",
      "         -0.2000,  -0.2000,  -0.4000,  -0.4000,   0.0000,  -1.0000,  -1.0000,\n",
      "         -1.0000,  -1.0000,  -0.2000,  -0.2000,  -0.2000,  -0.2000,  -0.2000,\n",
      "         -0.2000,  -0.4000,  -0.4000,   0.0000,  -0.4000,  -0.4000,   0.0000,\n",
      "         -0.4000,  -0.4000,   0.0000,  -0.3000,  -0.3000,   0.0000,  -1.0000,\n",
      "         -1.0000,  -1.0000,  -1.0000,  -0.3000,  -0.3000,   0.0000,  -1.0000,\n",
      "         -1.0000,  -1.0000,  -1.0000,  -0.0200,  -0.0200,  -0.0200,  -0.0200,\n",
      "         -0.0200,  -0.0200,  -0.0200,  -0.0200,  -0.0200, -10.0000, -10.0000,\n",
      "        -10.0000, -10.0000, -10.0000, -10.0000, -10.0000, -10.0000, -10.0000],\n",
      "       device='cuda:0')\n",
      "\tHigh: tensor([ 1.0000,  1.5700,  0.0000,  1.0000,  1.5700,  0.0000,  1.0000,  1.5700,\n",
      "         0.0000, 10.0000, 10.0000, 10.0000, 10.0000, 10.0000, 10.0000, 10.0000,\n",
      "        10.0000, 10.0000,  0.4000,  0.4000,  0.5000,  1.0000,  1.0000,  1.0000,\n",
      "         1.0000,  0.2000,  0.2000,  0.2000,  0.2000,  0.2000,  0.2000,  0.4000,\n",
      "         0.4000,  0.5000,  1.0000,  1.0000,  1.0000,  1.0000,  0.2000,  0.2000,\n",
      "         0.2000,  0.2000,  0.2000,  0.2000,  0.4000,  0.4000,  0.5000,  1.0000,\n",
      "         1.0000,  1.0000,  1.0000,  0.2000,  0.2000,  0.2000,  0.2000,  0.2000,\n",
      "         0.2000,  0.4000,  0.4000,  0.5000,  0.4000,  0.4000,  0.5000,  0.4000,\n",
      "         0.4000,  0.5000,  0.3000,  0.3000,  0.3000,  1.0000,  1.0000,  1.0000,\n",
      "         1.0000,  0.3000,  0.3000,  0.3000,  1.0000,  1.0000,  1.0000,  1.0000,\n",
      "         0.0200,  0.0200,  0.0200,  0.0200,  0.0200,  0.0200,  0.0200,  0.0200,\n",
      "         0.0200, 10.0000, 10.0000, 10.0000, 10.0000, 10.0000, 10.0000, 10.0000,\n",
      "        10.0000, 10.0000], device='cuda:0')\n",
      "MDP Raw state bounds\n",
      "\tLow: tensor([ -0.3300,   0.0000,  -2.7000,  -0.3300,   0.0000,  -2.7000,  -0.3300,\n",
      "          0.0000,  -2.7000, -10.0000, -10.0000, -10.0000, -10.0000, -10.0000,\n",
      "        -10.0000, -10.0000, -10.0000, -10.0000,  -0.4000,  -0.4000,   0.0000,\n",
      "         -1.0000,  -1.0000,  -1.0000,  -1.0000,  -0.2000,  -0.2000,  -0.2000,\n",
      "         -0.2000,  -0.2000,  -0.2000,  -0.4000,  -0.4000,   0.0000,  -1.0000,\n",
      "         -1.0000,  -1.0000,  -1.0000,  -0.2000,  -0.2000,  -0.2000,  -0.2000,\n",
      "         -0.2000,  -0.2000,  -0.4000,  -0.4000,   0.0000,  -1.0000,  -1.0000,\n",
      "         -1.0000,  -1.0000,  -0.2000,  -0.2000,  -0.2000,  -0.2000,  -0.2000,\n",
      "         -0.2000,  -0.4000,  -0.4000,   0.0000,  -0.4000,  -0.4000,   0.0000,\n",
      "         -0.4000,  -0.4000,   0.0000,  -0.3000,  -0.3000,   0.0000,  -1.0000,\n",
      "         -1.0000,  -1.0000,  -1.0000,  -0.3000,  -0.3000,   0.0000,  -1.0000,\n",
      "         -1.0000,  -1.0000,  -1.0000,  -0.0200,  -0.0200,  -0.0200,  -0.0200,\n",
      "         -0.0200,  -0.0200,  -0.0200,  -0.0200,  -0.0200, -10.0000, -10.0000,\n",
      "        -10.0000, -10.0000, -10.0000, -10.0000, -10.0000, -10.0000, -10.0000,\n",
      "         -0.5000,  -0.5000,  -0.5000,  -0.5000,  -0.5000,  -0.5000,  -0.3600,\n",
      "         -0.3600,  -0.3600,  -0.3600,  -0.3600,  -0.3600,  -0.3600,  -0.3600,\n",
      "         -0.3600,  -1.0000,  -1.0000,  -1.0000,  -1.0000,  -1.0000,  -1.0000,\n",
      "         -1.0000,  -1.0000,  -1.0000,  -1.0000,  -1.0000,  -1.0000,  -1.0000,\n",
      "         -1.0000,  -1.0000,  -1.0000,  -1.0000,  -1.0000], device='cuda:0')\n",
      "\tHigh: tensor([ 1.0000,  1.5700,  0.0000,  1.0000,  1.5700,  0.0000,  1.0000,  1.5700,\n",
      "         0.0000, 10.0000, 10.0000, 10.0000, 10.0000, 10.0000, 10.0000, 10.0000,\n",
      "        10.0000, 10.0000,  0.4000,  0.4000,  0.5000,  1.0000,  1.0000,  1.0000,\n",
      "         1.0000,  0.2000,  0.2000,  0.2000,  0.2000,  0.2000,  0.2000,  0.4000,\n",
      "         0.4000,  0.5000,  1.0000,  1.0000,  1.0000,  1.0000,  0.2000,  0.2000,\n",
      "         0.2000,  0.2000,  0.2000,  0.2000,  0.4000,  0.4000,  0.5000,  1.0000,\n",
      "         1.0000,  1.0000,  1.0000,  0.2000,  0.2000,  0.2000,  0.2000,  0.2000,\n",
      "         0.2000,  0.4000,  0.4000,  0.5000,  0.4000,  0.4000,  0.5000,  0.4000,\n",
      "         0.4000,  0.5000,  0.3000,  0.3000,  0.3000,  1.0000,  1.0000,  1.0000,\n",
      "         1.0000,  0.3000,  0.3000,  0.3000,  1.0000,  1.0000,  1.0000,  1.0000,\n",
      "         0.0200,  0.0200,  0.0200,  0.0200,  0.0200,  0.0200,  0.0200,  0.0200,\n",
      "         0.0200, 10.0000, 10.0000, 10.0000, 10.0000, 10.0000, 10.0000, 10.0000,\n",
      "        10.0000, 10.0000,  0.5000,  0.5000,  0.5000,  0.5000,  0.5000,  0.5000,\n",
      "         0.3600,  0.3600,  0.3600,  0.3600,  0.3600,  0.3600,  0.3600,  0.3600,\n",
      "         0.3600,  1.0000,  1.0000,  1.0000,  1.0000,  1.0000,  1.0000,  1.0000,\n",
      "         1.0000,  1.0000,  1.0000,  1.0000,  1.0000,  1.0000,  1.0000,  1.0000,\n",
      "         1.0000,  1.0000,  1.0000], device='cuda:0')\n",
      "MDP Raw action bounds\n",
      "\tLow: tensor([ -0.0200,  -0.0200,  -0.0200,  -0.0200,  -0.0200,  -0.0200,  -0.0200,\n",
      "         -0.0200,  -0.0200, -10.0000, -10.0000, -10.0000, -10.0000, -10.0000,\n",
      "        -10.0000, -10.0000, -10.0000, -10.0000], device='cuda:0')\n",
      "\tHigh: tensor([ 0.0200,  0.0200,  0.0200,  0.0200,  0.0200,  0.0200,  0.0200,  0.0200,\n",
      "         0.0200, 10.0000, 10.0000, 10.0000, 10.0000, 10.0000, 10.0000, 10.0000,\n",
      "        10.0000, 10.0000], device='cuda:0')\n"
     ]
    }
   ],
   "source": [
    "device = cfg.sim_device\n",
    "envs = create_env_thunk()"
   ]
  },
  {
   "cell_type": "code",
   "execution_count": 6,
   "id": "d858ff54",
   "metadata": {},
   "outputs": [],
   "source": [
    "lifting_data = np.load(\"data/lifting.npz\", allow_pickle=True)[\"data\"]"
   ]
  },
  {
   "cell_type": "code",
   "execution_count": 7,
   "id": "c554ca88",
   "metadata": {},
   "outputs": [],
   "source": [
    "# get ftip states\n",
    "envs.reset_idx(torch.arange(cfg.num_envs))\n",
    "N = 570\n",
    "action_buffer = torch.zeros(N, 18).to(device)\n",
    "ftip_pos_buffer = torch.zeros(N, 3, 3).to(device)\n",
    "ftip_pos_local_buffer = torch.zeros(N, 3, 3).to(device)\n",
    "object_pose_buffer = torch.zeros(N, 7).to(device)\n",
    "contact_normals_buffer = []\n",
    "\n",
    "q_buffer = torch.zeros(N, 9).to(device)\n",
    "dq_buffer = torch.zeros(N, 9).to(device)\n",
    "obs, rwds, resets, info = envs.step(torch.zeros(cfg.num_envs, 18))"
   ]
  },
  {
   "cell_type": "code",
   "execution_count": 8,
   "id": "945f5b75",
   "metadata": {},
   "outputs": [],
   "source": [
    "# def get_cube_contact_normals(ftip_pos, threshold=0.0435):\n",
    "#     batch_size = len(ftip_pos)\n",
    "#     contact_normals = torch.zeros(batch_size, 3).to(ftip_pos.device)\n",
    "        \n",
    "#     _, max_indices = torch.max(torch.abs(ftip_pos), dim=1)\n",
    "#     max_values = torch.squeeze(torch.gather(ftip_pos, 1, max_indices.unsqueeze(1)))\n",
    "\n",
    "#     mask_pos = (torch.abs(max_values) <= threshold) * (max_values > 0)\n",
    "#     mask_neg = (torch.abs(max_values) <= threshold) * (max_values < 0)\n",
    "\n",
    "#     # contact normal points to the same direction as the contact force, hence into the object\n",
    "#     contact_normals[mask_pos, max_indices[mask_pos]] = -1.0\n",
    "#     contact_normals[mask_neg, max_indices[mask_neg]] = 1.0\n",
    "    \n",
    "#     return contact_normals\n",
    "\n",
    "# def get_contact_frame_orn(contact_normals: torch.Tensor):\n",
    "#     # get the orientation of the contact frames expressed in the object frame\n",
    "#     z_axis = contact_normals\n",
    "#     zero_indices = torch.argmax(torch.eq(z_axis, 0).int(), dim=1)\n",
    "#     y_axis = torch.eye(3).to(z_axis.device)[zero_indices]\n",
    "#     x_axis = torch.cross(y_axis, z_axis, dim=1)\n",
    "#     y_axis = torch.cross(z_axis, x_axis, dim=1) # this makes sure if z is all zero, then orn is a zero matrix\n",
    "#     orn = torch.stack((x_axis, y_axis, z_axis), dim=2)\n",
    "#     return orn\n",
    "\n",
    "# def hstacked_SO3_transform(mat, vec):\n",
    "#     batch_size, d1, d2 = mat.shape\n",
    "#     stack_size = d2 // 3\n",
    "#     transformed = torch.zeros_like(vec)\n",
    "#     for i in range(stack_size):\n",
    "#         selection = torch.zeros_like(vec)\n",
    "#         selection[:, 3*i:3*(i+1)] = 1\n",
    "#         transformed[:, 3*i:3*(i+1)] = bmv(mat, vec * selection)\n",
    "#     return transformed\n",
    "\n",
    "# def get_force_qp_data(ftip_pos, object_pose, mg, weights=[1, 200, 1e-4]):\n",
    "#     # get ftip positin in the object frame\n",
    "#     batch_size, num_ftip, _ = ftip_pos.shape\n",
    "#     p = SE3_inverse_transform(object_pose.repeat_interleave(3, dim=0), \n",
    "#                     ftip_pos.view(-1, 3))\n",
    "#     contact_normals = get_cube_contact_normals(p)\n",
    "#     R = get_contact_frame_orn(contact_normals)\n",
    "#     R_vstacked = R.transpose(1, 2).reshape(-1, 3 * num_ftip, 3)\n",
    "#     Q1 = R_vstacked @ R_vstacked.transpose(1, 2)\n",
    "    \n",
    "#     pxR = vec2skewsym_mat(p) @ R\n",
    "#     pxR_vstacked = pxR.transpose(1, 2).reshape(-1, 3 * num_ftip, 3)\n",
    "#     Q2 = pxR_vstacked @ pxR_vstacked.transpose(1, 2)\n",
    "    \n",
    "#     w1, w2, w3 = weights\n",
    "#     Q = w1 * Q1 + w2 * Q2 + w3 * torch.eye(3 * num_ftip).repeat(batch_size, 1, 1).to(Q1.device)\n",
    "\n",
    "#     # for Q == 0, hence R1, R2, R3 == 0, fill the diagnoal of Q with ones. This produces f == 0\n",
    "#     reshaped_tensor = Q.view(batch_size, -1)\n",
    "#     diagonal_elements_zero = torch.all(reshaped_tensor[:, ::num_vars+1] == 0, dim=1)\n",
    "#     mask = diagonal_elements_zero[:, None].repeat(1, num_vars)\n",
    "#     diag_idx = torch.arange(num_vars)\n",
    "#     Q[:, diag_idx, diag_idx] = Q[:, diag_idx, diag_idx].masked_fill_(mask, 1)\n",
    "    \n",
    "#     object_orn = quat2mat(object_pose[:, 3:])\n",
    "#     mg_local = bmv(object_orn.transpose(1,2), mg)\n",
    "#     q = -2 * bmv(R_vstacked, mg_local)\n",
    "    \n",
    "#     return Q, q, R_vstacked, pxR_vstacked, contact_normals"
   ]
  },
  {
   "cell_type": "code",
   "execution_count": 9,
   "id": "2055321e",
   "metadata": {
    "scrolled": false
   },
   "outputs": [],
   "source": [
    "# construct force QP\n",
    "batch_size = cfg.num_envs\n",
    "num_vars = 9\n",
    "lb = -10 * torch.ones(batch_size, num_vars)\n",
    "ub = 10 * torch.ones(batch_size, num_vars)\n",
    "mg = torch.tensor([0, 0, 9.81]).repeat(batch_size, 1).to(device)\n",
    "cost_weights = [1, 200, 1e-4]\n",
    "\n",
    "prob = ForceQP(batch_size, num_vars, friction_coeff=1.0, device=device)\n",
    "solver = FISTA(prob, device=device)\n",
    "max_it = 50\n",
    "\n",
    "for n in range(N):\n",
    "    q = envs._dof_position\n",
    "    dq = envs._dof_velocity\n",
    "    q_buffer[n] = q[0]\n",
    "    dq_buffer[n] = dq[0]\n",
    "    \n",
    "    ftip_state = envs._rigid_body_state[:, envs._fingertip_indices]\n",
    "    ftip_pos = ftip_state[:, :, 0:3]\n",
    "    ftip_pos_buffer[n] = ftip_pos[0]\n",
    "    \n",
    "    object_pose = envs._object_state_history[0][:, 0:7]\n",
    "    object_orn = quat2mat(object_pose[:, 3:])\n",
    "    object_pose_buffer[n] = object_pose[0]\n",
    "        \n",
    "    # set up force qp\n",
    "    Q, q, R_vstacked, pxR_vstacked, contact_normals = get_force_qp_data(ftip_pos, object_pose, mg,  cost_weights)    \n",
    "    prob.set_data(Q, q, lb, ub)\n",
    "    solver.reset()\n",
    "    for i in range(max_it):\n",
    "        solver.step()\n",
    "    ftip_force_contact_frame = solver.prob.yk.clone()\n",
    "    contact_normals_buffer.append(contact_normals)\n",
    "    \n",
    "    # convert force to the world frame\n",
    "    R = R_vstacked.reshape(-1, 3, 3).transpose(1, 2)\n",
    "    ftip_force_object_frame = stacked_bmv(R, ftip_force_contact_frame)\n",
    "    ftip_force_des = stacked_bmv(object_orn.repeat(3, 1, 1), ftip_force_object_frame)\n",
    "    ftip_pos_des = torch.tensor(lifting_data[20 * n]['policy']['controller']['ft_pos_des'], dtype=torch.float32).to(device)\n",
    "    \n",
    "    action = torch.zeros(cfg.num_envs, 18)\n",
    "    action[:, :9] = ftip_pos_des.view(1, 9).repeat(cfg.num_envs, 1) - ftip_pos.reshape(cfg.num_envs, 9)\n",
    "    \n",
    "    if n >= 300:\n",
    "        action[:, 9:] = ftip_force_des\n",
    "    \n",
    "    action_buffer[n] = action[0]\n",
    "    obs, rwds, resets, info = envs.step(action)"
   ]
  },
  {
   "cell_type": "code",
   "execution_count": 10,
   "id": "80afeaa4",
   "metadata": {},
   "outputs": [
    {
     "data": {
      "text/plain": [
       "array([ 0.00253385, -0.01002879,  0.0794745 ])"
      ]
     },
     "execution_count": 10,
     "metadata": {},
     "output_type": "execute_result"
    }
   ],
   "source": [
    "lifting_data[20 * n]['object_position']"
   ]
  },
  {
   "cell_type": "code",
   "execution_count": 11,
   "id": "fae77edf",
   "metadata": {},
   "outputs": [
    {
     "data": {
      "text/plain": [
       "tensor([[ 0.0050, -0.0114,  0.0604],\n",
       "        [ 0.0090, -0.0096,  0.0722],\n",
       "        [ 0.0084, -0.0102,  0.0714],\n",
       "        [ 0.0087, -0.0095,  0.0725]], device='cuda:0')"
      ]
     },
     "execution_count": 11,
     "metadata": {},
     "output_type": "execute_result"
    }
   ],
   "source": [
    "object_pose[:, :3]"
   ]
  },
  {
   "cell_type": "code",
   "execution_count": 12,
   "id": "7f4eb9b9",
   "metadata": {},
   "outputs": [
    {
     "data": {
      "text/plain": [
       "tensor([[-1.7603, -0.3173,  7.8980],\n",
       "        [ 1.2175,  1.5135, 10.4925],\n",
       "        [ 0.5733, -2.8362,  9.1764],\n",
       "        [ 0.1510,  0.3002,  9.9460]], device='cuda:0')"
      ]
     },
     "execution_count": 12,
     "metadata": {},
     "output_type": "execute_result"
    }
   ],
   "source": [
    "ftip_force_des.view(-1, 3, 3).sum(dim=1)"
   ]
  },
  {
   "cell_type": "code",
   "execution_count": null,
   "id": "a87a9830",
   "metadata": {},
   "outputs": [],
   "source": []
  }
 ],
 "metadata": {
  "kernelspec": {
   "display_name": "Python 3 (ipykernel)",
   "language": "python",
   "name": "python3"
  },
  "language_info": {
   "codemirror_mode": {
    "name": "ipython",
    "version": 3
   },
   "file_extension": ".py",
   "mimetype": "text/x-python",
   "name": "python",
   "nbconvert_exporter": "python",
   "pygments_lexer": "ipython3",
   "version": "3.8.16"
  }
 },
 "nbformat": 4,
 "nbformat_minor": 5
}
