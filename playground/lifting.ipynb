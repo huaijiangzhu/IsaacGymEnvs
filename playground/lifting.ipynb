{
 "cells": [
  {
   "cell_type": "code",
   "execution_count": 1,
   "id": "6cfc08e6",
   "metadata": {},
   "outputs": [],
   "source": [
    "%matplotlib inline\n",
    "%load_ext autoreload\n",
    "%autoreload 2"
   ]
  },
  {
   "cell_type": "code",
   "execution_count": 2,
   "id": "aabd71ce",
   "metadata": {
    "scrolled": false
   },
   "outputs": [
    {
     "name": "stdout",
     "output_type": "stream",
     "text": [
      "Importing module 'gym_38' (/home/hz/devel/isaacgym/python/isaacgym/_bindings/linux-x86_64/gym_38.so)\n",
      "Setting GYM_USD_PLUG_INFO_PATH to /home/hz/devel/isaacgym/python/isaacgym/_bindings/linux-x86_64/usd/plugInfo.json\n"
     ]
    },
    {
     "name": "stderr",
     "output_type": "stream",
     "text": [
      "Warning: Gym version v0.24.1 has a number of critical issues with `gym.make` such that environment observation and action spaces are incorrectly evaluated, raising incorrect errors and warning . It is recommend to downgrading to v0.23.1 or upgrading to v0.25.1\n"
     ]
    },
    {
     "name": "stdout",
     "output_type": "stream",
     "text": [
      "PyTorch version 2.0.0\n",
      "Device count 1\n",
      "/home/hz/devel/isaacgym/python/isaacgym/_bindings/src/gymtorch\n"
     ]
    },
    {
     "name": "stderr",
     "output_type": "stream",
     "text": [
      "Using /home/hz/.cache/torch_extensions/py38_cu117 as PyTorch extensions root...\n",
      "Emitting ninja build file /home/hz/.cache/torch_extensions/py38_cu117/gymtorch/build.ninja...\n",
      "Building extension module gymtorch...\n",
      "Allowing ninja to set a default number of workers... (overridable by setting the environment variable MAX_JOBS=N)\n"
     ]
    },
    {
     "name": "stdout",
     "output_type": "stream",
     "text": [
      "ninja: no work to do.\n"
     ]
    },
    {
     "name": "stderr",
     "output_type": "stream",
     "text": [
      "Loading extension module gymtorch...\n",
      "2023-05-12 16:40:06,230 - INFO - logger - logger initialized\n"
     ]
    },
    {
     "name": "stdout",
     "output_type": "stream",
     "text": [
      "Error: FBX library failed to load - importing FBX data will not succeed. Message: No module named 'fbx'\n",
      "FBX tools must be installed from https://help.autodesk.com/view/FBX/2020/ENU/?guid=FBX_Developer_Help_scripting_with_python_fbx_installing_python_fbx_html\n"
     ]
    },
    {
     "name": "stderr",
     "output_type": "stream",
     "text": [
      "<unknown>:3: DeprecationWarning: invalid escape sequence \\*\n",
      "/home/hz/miniforge3/envs/rlgpu/lib/python3.8/site-packages/torch/utils/tensorboard/__init__.py:4: DeprecationWarning: distutils Version classes are deprecated. Use packaging.version instead.\n",
      "  if not hasattr(tensorboard, \"__version__\") or LooseVersion(\n"
     ]
    }
   ],
   "source": [
    "import isaacgym\n",
    "import isaacgymenvs\n",
    "from isaacgymenvs.utils.reformat import omegaconf_to_dict, print_dict\n",
    "from isaacgymenvs.utils.utils import set_np_formatting, set_seed\n",
    "from isaacgymenvs.utils.rlgames_utils import RLGPUEnv, RLGPUAlgoObserver, get_rlgames_env_creator\n",
    "\n",
    "from rl_games.common import env_configurations, vecenv\n",
    "from rl_games.torch_runner import Runner\n",
    "from rl_games.algos_torch import model_builder\n",
    "\n",
    "from omegaconf import DictConfig, OmegaConf\n",
    "\n",
    "import torch\n",
    "import numpy as np\n",
    "import matplotlib.pyplot as plt\n",
    "\n",
    "from vecrobotics import *\n",
    "from fista import QP, FISTA, ForceQP"
   ]
  },
  {
   "cell_type": "code",
   "execution_count": 3,
   "id": "428e96d7",
   "metadata": {},
   "outputs": [],
   "source": [
    "cfg = OmegaConf.load(\"../isaacgymenvs/cfg/config.yaml\")\n",
    "cfg.task_name = \"TrifingerNYU\"\n",
    "cfg.num_envs = 1\n",
    "cfg.task = OmegaConf.load(\"../isaacgymenvs/cfg/task/TrifingerNYU.yaml\")\n",
    "cfg.headless = True"
   ]
  },
  {
   "cell_type": "code",
   "execution_count": 4,
   "id": "23d7bae6",
   "metadata": {},
   "outputs": [],
   "source": [
    "def create_env_thunk(**kwargs):\n",
    "    envs = isaacgymenvs.make(\n",
    "            cfg.seed, \n",
    "            cfg.task_name, \n",
    "            cfg.task.env.numEnvs, \n",
    "            cfg.sim_device,\n",
    "            cfg.rl_device,\n",
    "            cfg.graphics_device_id,\n",
    "            cfg.headless,\n",
    "            cfg.multi_gpu,\n",
    "            cfg.capture_video,\n",
    "            cfg.force_render,\n",
    "            cfg,\n",
    "            **kwargs,\n",
    "        )\n",
    "    return envs"
   ]
  },
  {
   "cell_type": "code",
   "execution_count": 5,
   "id": "b1b84736",
   "metadata": {},
   "outputs": [
    {
     "name": "stderr",
     "output_type": "stream",
     "text": [
      "/home/hz/miniforge3/envs/rlgpu/lib/python3.8/site-packages/gym/spaces/box.py:112: UserWarning: \u001b[33mWARN: Box bound precision lowered by casting to float32\u001b[0m\n",
      "  logger.warn(f\"Box bound precision lowered by casting to {self.dtype}\")\n",
      "/home/hz/learning/IsaacGymEnvs/isaacgymenvs/tasks/trifingerNYU.py:1278: DeprecationWarning: an integer is required (got type isaacgym._bindings.linux-x86_64.gym_38.DofDriveMode).  Implicit conversion to integers using __int__ is deprecated, and may be removed in a future version of Python.\n",
      "  robot_asset_options.default_dof_drive_mode = gymapi.DOF_MODE_EFFORT\n"
     ]
    },
    {
     "name": "stdout",
     "output_type": "stream",
     "text": [
      "[Warning] [carb.gym.plugin] useGpu is set, forcing single scene (0 subscenes)\n",
      "Not connected to PVD\n",
      "+++ Using GPU PhysX\n",
      "Physics Engine: PhysX\n",
      "Physics Device: cuda:0\n",
      "GPU Pipeline: enabled\n",
      "Trifinger Robot Asset: \n",
      "\t Number of bodies: 23\n",
      "\t Number of shapes: 39\n",
      "\t Number of dofs: 9\n",
      "\t Number of actuated dofs: 9\n",
      "Trifinger Table Asset: \n",
      "\t Number of bodies: 2\n",
      "\t Number of shapes: 1\n",
      "Trifinger Boundary Asset: \n",
      "\t Number of bodies: 1\n",
      "\t Number of shapes: 41\n",
      "Using VHACD cache directory '/home/hz/.isaacgym/vhacd'\n",
      "Found existing convex decomposition for mesh '/home/hz/learning/IsaacGymEnvs/isaacgymenvs/../assets/trifinger/robot_properties_fingers/meshes/pro/int_sim.stl'\n",
      "Found existing convex decomposition for mesh '/home/hz/learning/IsaacGymEnvs/isaacgymenvs/../assets/trifinger/robot_properties_fingers/meshes/pro/prox-sim.stl'\n",
      "Found existing convex decomposition for mesh '/home/hz/learning/IsaacGymEnvs/isaacgymenvs/../assets/trifinger/robot_properties_fingers/meshes/pro/tip_link_sim.stl'\n",
      "Found existing convex decomposition for mesh '/home/hz/learning/IsaacGymEnvs/isaacgymenvs/../assets/trifinger/robot_properties_fingers/meshes/pro/tip_sim.stl'\n",
      "Found existing convex decomposition for mesh '/home/hz/learning/IsaacGymEnvs/isaacgymenvs/../assets/trifinger/robot_properties_fingers/meshes/high_table_boundary.stl'\n",
      "[Warning] [carb.gym.plugin] Acquiring DOF force tensor, but no actors have DOF force sensors enabled.\n",
      "[Warning] [carb.gym.plugin] -> Enabled DOF force sensors for all eligible actors.\n",
      "MDP Raw observation bounds\n",
      "\tLow: tensor([ -0.3300,   0.0000,  -2.7000,  -0.3300,   0.0000,  -2.7000,  -0.3300,\n",
      "          0.0000,  -2.7000, -10.0000, -10.0000, -10.0000, -10.0000, -10.0000,\n",
      "        -10.0000, -10.0000, -10.0000, -10.0000,  -0.4000,  -0.4000,   0.0000,\n",
      "         -1.0000,  -1.0000,  -1.0000,  -1.0000,  -0.2000,  -0.2000,  -0.2000,\n",
      "         -0.2000,  -0.2000,  -0.2000,  -0.4000,  -0.4000,   0.0000,  -1.0000,\n",
      "         -1.0000,  -1.0000,  -1.0000,  -0.2000,  -0.2000,  -0.2000,  -0.2000,\n",
      "         -0.2000,  -0.2000,  -0.4000,  -0.4000,   0.0000,  -1.0000,  -1.0000,\n",
      "         -1.0000,  -1.0000,  -0.2000,  -0.2000,  -0.2000,  -0.2000,  -0.2000,\n",
      "         -0.2000,  -0.4000,  -0.4000,   0.0000,  -0.4000,  -0.4000,   0.0000,\n",
      "         -0.4000,  -0.4000,   0.0000,  -0.3000,  -0.3000,   0.0000,  -1.0000,\n",
      "         -1.0000,  -1.0000,  -1.0000,  -0.3000,  -0.3000,   0.0000,  -1.0000,\n",
      "         -1.0000,  -1.0000,  -1.0000,  -0.0200,  -0.0200,  -0.0200,  -0.0200,\n",
      "         -0.0200,  -0.0200,  -0.0200,  -0.0200,  -0.0200], device='cuda:0')\n",
      "\tHigh: tensor([ 1.0000,  1.5700,  0.0000,  1.0000,  1.5700,  0.0000,  1.0000,  1.5700,\n",
      "         0.0000, 10.0000, 10.0000, 10.0000, 10.0000, 10.0000, 10.0000, 10.0000,\n",
      "        10.0000, 10.0000,  0.4000,  0.4000,  0.5000,  1.0000,  1.0000,  1.0000,\n",
      "         1.0000,  0.2000,  0.2000,  0.2000,  0.2000,  0.2000,  0.2000,  0.4000,\n",
      "         0.4000,  0.5000,  1.0000,  1.0000,  1.0000,  1.0000,  0.2000,  0.2000,\n",
      "         0.2000,  0.2000,  0.2000,  0.2000,  0.4000,  0.4000,  0.5000,  1.0000,\n",
      "         1.0000,  1.0000,  1.0000,  0.2000,  0.2000,  0.2000,  0.2000,  0.2000,\n",
      "         0.2000,  0.4000,  0.4000,  0.5000,  0.4000,  0.4000,  0.5000,  0.4000,\n",
      "         0.4000,  0.5000,  0.3000,  0.3000,  0.3000,  1.0000,  1.0000,  1.0000,\n",
      "         1.0000,  0.3000,  0.3000,  0.3000,  1.0000,  1.0000,  1.0000,  1.0000,\n",
      "         0.0200,  0.0200,  0.0200,  0.0200,  0.0200,  0.0200,  0.0200,  0.0200,\n",
      "         0.0200], device='cuda:0')\n",
      "MDP Raw state bounds\n",
      "\tLow: tensor([ -0.3300,   0.0000,  -2.7000,  -0.3300,   0.0000,  -2.7000,  -0.3300,\n",
      "          0.0000,  -2.7000, -10.0000, -10.0000, -10.0000, -10.0000, -10.0000,\n",
      "        -10.0000, -10.0000, -10.0000, -10.0000,  -0.4000,  -0.4000,   0.0000,\n",
      "         -1.0000,  -1.0000,  -1.0000,  -1.0000,  -0.2000,  -0.2000,  -0.2000,\n",
      "         -0.2000,  -0.2000,  -0.2000,  -0.4000,  -0.4000,   0.0000,  -1.0000,\n",
      "         -1.0000,  -1.0000,  -1.0000,  -0.2000,  -0.2000,  -0.2000,  -0.2000,\n",
      "         -0.2000,  -0.2000,  -0.4000,  -0.4000,   0.0000,  -1.0000,  -1.0000,\n",
      "         -1.0000,  -1.0000,  -0.2000,  -0.2000,  -0.2000,  -0.2000,  -0.2000,\n",
      "         -0.2000,  -0.4000,  -0.4000,   0.0000,  -0.4000,  -0.4000,   0.0000,\n",
      "         -0.4000,  -0.4000,   0.0000,  -0.3000,  -0.3000,   0.0000,  -1.0000,\n",
      "         -1.0000,  -1.0000,  -1.0000,  -0.3000,  -0.3000,   0.0000,  -1.0000,\n",
      "         -1.0000,  -1.0000,  -1.0000,  -0.0200,  -0.0200,  -0.0200,  -0.0200,\n",
      "         -0.0200,  -0.0200,  -0.0200,  -0.0200,  -0.0200,  -0.5000,  -0.5000,\n",
      "         -0.5000,  -0.5000,  -0.5000,  -0.5000,  -0.3600,  -0.3600,  -0.3600,\n",
      "         -0.3600,  -0.3600,  -0.3600,  -0.3600,  -0.3600,  -0.3600,  -1.0000,\n",
      "         -1.0000,  -1.0000,  -1.0000,  -1.0000,  -1.0000,  -1.0000,  -1.0000,\n",
      "         -1.0000,  -1.0000,  -1.0000,  -1.0000,  -1.0000,  -1.0000,  -1.0000,\n",
      "         -1.0000,  -1.0000,  -1.0000], device='cuda:0')\n",
      "\tHigh: tensor([ 1.0000,  1.5700,  0.0000,  1.0000,  1.5700,  0.0000,  1.0000,  1.5700,\n",
      "         0.0000, 10.0000, 10.0000, 10.0000, 10.0000, 10.0000, 10.0000, 10.0000,\n",
      "        10.0000, 10.0000,  0.4000,  0.4000,  0.5000,  1.0000,  1.0000,  1.0000,\n",
      "         1.0000,  0.2000,  0.2000,  0.2000,  0.2000,  0.2000,  0.2000,  0.4000,\n",
      "         0.4000,  0.5000,  1.0000,  1.0000,  1.0000,  1.0000,  0.2000,  0.2000,\n",
      "         0.2000,  0.2000,  0.2000,  0.2000,  0.4000,  0.4000,  0.5000,  1.0000,\n",
      "         1.0000,  1.0000,  1.0000,  0.2000,  0.2000,  0.2000,  0.2000,  0.2000,\n",
      "         0.2000,  0.4000,  0.4000,  0.5000,  0.4000,  0.4000,  0.5000,  0.4000,\n",
      "         0.4000,  0.5000,  0.3000,  0.3000,  0.3000,  1.0000,  1.0000,  1.0000,\n",
      "         1.0000,  0.3000,  0.3000,  0.3000,  1.0000,  1.0000,  1.0000,  1.0000,\n",
      "         0.0200,  0.0200,  0.0200,  0.0200,  0.0200,  0.0200,  0.0200,  0.0200,\n",
      "         0.0200,  0.5000,  0.5000,  0.5000,  0.5000,  0.5000,  0.5000,  0.3600,\n",
      "         0.3600,  0.3600,  0.3600,  0.3600,  0.3600,  0.3600,  0.3600,  0.3600,\n",
      "         1.0000,  1.0000,  1.0000,  1.0000,  1.0000,  1.0000,  1.0000,  1.0000,\n",
      "         1.0000,  1.0000,  1.0000,  1.0000,  1.0000,  1.0000,  1.0000,  1.0000,\n",
      "         1.0000,  1.0000], device='cuda:0')\n",
      "MDP Raw action bounds\n",
      "\tLow: tensor([-0.0200, -0.0200, -0.0200, -0.0200, -0.0200, -0.0200, -0.0200, -0.0200,\n",
      "        -0.0200], device='cuda:0')\n",
      "\tHigh: tensor([0.0200, 0.0200, 0.0200, 0.0200, 0.0200, 0.0200, 0.0200, 0.0200, 0.0200],\n",
      "       device='cuda:0')\n"
     ]
    }
   ],
   "source": [
    "device = cfg.sim_device\n",
    "envs = create_env_thunk()"
   ]
  },
  {
   "cell_type": "code",
   "execution_count": 6,
   "id": "d858ff54",
   "metadata": {},
   "outputs": [],
   "source": [
    "lifting_data = np.load(\"data/lifting.npz\", allow_pickle=True)[\"data\"]"
   ]
  },
  {
   "cell_type": "code",
   "execution_count": 7,
   "id": "c554ca88",
   "metadata": {},
   "outputs": [],
   "source": [
    "# get fingertip states\n",
    "envs.reset_idx(torch.arange(cfg.num_envs))\n",
    "N = 570\n",
    "action_buffer = torch.zeros(N, 9).to(device)\n",
    "ftip_pos_buffer = torch.zeros(N, 3, 3).to(device)\n",
    "ftip_pos_local_buffer = torch.zeros(N, 3, 3).to(device)\n",
    "object_pose_buffer = torch.zeros(N, 7).to(device)\n",
    "\n",
    "q_buffer = torch.zeros(N, 9).to(device)\n",
    "dq_buffer = torch.zeros(N, 9).to(device)\n",
    "obs, rwds, resets, info = envs.step(torch.zeros(cfg.num_envs, 9))"
   ]
  },
  {
   "cell_type": "code",
   "execution_count": 8,
   "id": "2055321e",
   "metadata": {},
   "outputs": [],
   "source": [
    "for n in range(N):\n",
    "    q = envs._dof_position\n",
    "    dq = envs._dof_velocity\n",
    "    q_buffer[n] = q[0]\n",
    "    dq_buffer[n] = dq[0]\n",
    "    \n",
    "    fingertip_state = envs._rigid_body_state[:, envs._fingertip_indices]\n",
    "    fingertip_position = fingertip_state[:, :, 0:3]\n",
    "    ftip_pos_buffer[n] = fingertip_position[0]\n",
    "    \n",
    "    object_pose = envs._object_state_history[0][:, 0:7]\n",
    "    object_pose_buffer[n] = object_pose[0]\n",
    "\n",
    "    for i in range(3):\n",
    "        ftip_pos_local_buffer[n, i] = world2local(object_pose, fingertip_position[:, i, :])\n",
    "        \n",
    "    ftip_pos_des = torch.tensor(lifting_data[20 * n]['policy']['controller']['ft_pos_des'], dtype=torch.float32).to(device)\n",
    "    action = ftip_pos_des.view(cfg.num_envs, 9) - fingertip_position.reshape(cfg.num_envs, 9)\n",
    "     \n",
    "    action_buffer[n] = action[0]\n",
    "    obs, rwds, resets, info = envs.step(action)\n",
    "    "
   ]
  },
  {
   "cell_type": "code",
   "execution_count": 9,
   "id": "2654a4f9",
   "metadata": {},
   "outputs": [],
   "source": [
    "def get_cube_contact_normals(ftip_pos, threshold=0.0435):\n",
    "    batch_size = len(ftip_pos)\n",
    "    contact_normals = torch.zeros(batch_size, 3).to(ftip_pos.device)\n",
    "        \n",
    "    _, max_indices = torch.max(torch.abs(ftip_pos), dim=1)\n",
    "    max_values = torch.squeeze(torch.gather(ftip_pos, 1, max_indices.unsqueeze(1)))\n",
    "\n",
    "    mask_pos = (torch.abs(max_values) <= threshold) * (max_values > 0)\n",
    "    mask_neg = (torch.abs(max_values) <= threshold) * (max_values < 0)\n",
    "\n",
    "    # contact normal points to the same direction as the contact force, hence into the object\n",
    "    contact_normals[mask_pos, max_indices[mask_pos]] = -1.0\n",
    "    contact_normals[mask_neg, max_indices[mask_neg]] = 1.0\n",
    "    \n",
    "    return contact_normals\n",
    "\n",
    "def get_contact_frame_orn(contact_normals: torch.Tensor):\n",
    "    # get the orientation of the contact frames expressed in the object frame\n",
    "    z_axis = contact_normals\n",
    "    zero_indices = torch.argmax(torch.eq(z_axis, 0).int(), dim=1)\n",
    "    y_axis = torch.eye(3).to(z_axis.device)[zero_indices]\n",
    "    x_axis = torch.cross(y_axis, z_axis)\n",
    "    y_axis = torch.cross(z_axis, x_axis) # this makes sure if z is all zero, then orn is a zero matrix\n",
    "    orn = torch.stack((x_axis, y_axis, z_axis), dim=2)\n",
    "    return orn"
   ]
  },
  {
   "cell_type": "code",
   "execution_count": 29,
   "id": "6fc18a5a",
   "metadata": {},
   "outputs": [],
   "source": [
    "num_batches, _ = object_pose_buffer.shape\n",
    "num_vars = 9\n",
    "num_eqc = 1\n",
    "A = torch.zeros(num_batches, num_eqc, num_vars)\n",
    "b = torch.zeros(num_batches, num_eqc)\n",
    "rho = 0 # rho = 0 supresss eqc Ax + b = 0\n",
    "lb = -10 * torch.ones(num_batches, num_vars)\n",
    "ub = 10 * torch.ones(num_batches, num_vars)"
   ]
  },
  {
   "cell_type": "code",
   "execution_count": 30,
   "id": "a0c5c186",
   "metadata": {},
   "outputs": [],
   "source": [
    "p = ftip_pos_local_buffer.view(-1, 3)\n",
    "contact_normals = get_cube_contact_normals(p)\n",
    "R = get_contact_frame_orn(contact_normals)\n",
    "R_stacked = R.transpose(1, 2).reshape(-1, 9, 3)\n",
    "Q1 = R_stacked @ R_stacked.transpose(1, 2)"
   ]
  },
  {
   "cell_type": "code",
   "execution_count": 31,
   "id": "83455d93",
   "metadata": {},
   "outputs": [],
   "source": [
    "pxR = vec2skew_sym_mat(p) @ R\n",
    "pxR_stacked = pxR.transpose(1, 2).reshape(-1, 9, 3)\n",
    "Q2 = pxR_stacked @ pxR_stacked.transpose(1, 2)"
   ]
  },
  {
   "cell_type": "code",
   "execution_count": 38,
   "id": "2fdb8584",
   "metadata": {},
   "outputs": [],
   "source": [
    "Q = Q1 + 200 * Q2\n",
    "\n",
    "# for Q == 0, hence R1, R2, R3 == 0, fill the diagnoal of Q with ones. This produces f == 0\n",
    "reshaped_tensor = Q.view(num_batches, -1)\n",
    "diagonal_elements_zero = torch.all(reshaped_tensor[:, ::num_vars+1] == 0, dim=1)\n",
    "mask = diagonal_elements_zero[:, None].repeat(1, num_vars)\n",
    "diag_idx = torch.arange(num_vars)\n",
    "Q[:, diag_idx, diag_idx] = Q[:, diag_idx, diag_idx].masked_fill_(mask, 1)"
   ]
  },
  {
   "cell_type": "code",
   "execution_count": 39,
   "id": "c50ebea4",
   "metadata": {},
   "outputs": [],
   "source": [
    "g = torch.tensor([0, 0, 9.81]).repeat(num_batches, 1).to(device)\n",
    "object_orn = quat2mat(object_pose_buffer[:, 3:])\n",
    "g_local = bmv(object_orn, g)\n",
    "m = 1\n",
    "q = -2 * m * bmv(R_stacked, g_local)"
   ]
  },
  {
   "cell_type": "code",
   "execution_count": 40,
   "id": "c8aaff69",
   "metadata": {},
   "outputs": [],
   "source": [
    "prob = ForceQP(num_batches, num_vars, friction_coeff=1.0, device=device)\n",
    "prob.set_data(Q, q, lb, ub)\n",
    "solver = FISTA(prob, device=device)\n",
    "max_it = 100\n",
    "for i in range(max_it):\n",
    "    solver.step()"
   ]
  },
  {
   "cell_type": "code",
   "execution_count": 41,
   "id": "4183c4e3",
   "metadata": {},
   "outputs": [],
   "source": [
    "forces = solver.prob.yk\n",
    "total_force = bmv(R_stacked.transpose(1,2), forces)\n",
    "total_torque = bmv(pxR_stacked.transpose(1,2), forces)\n",
    "force_norm = torch.norm(total_force, dim=1)\n",
    "torque_norm = torch.norm(total_torque, dim=1)"
   ]
  },
  {
   "cell_type": "code",
   "execution_count": 43,
   "id": "b94b6cd0",
   "metadata": {},
   "outputs": [],
   "source": [
    "t1 = 304\n",
    "t2 = 350\n",
    "t3 = 150\n",
    "t = t3"
   ]
  }
 ],
 "metadata": {
  "kernelspec": {
   "display_name": "Python 3 (ipykernel)",
   "language": "python",
   "name": "python3"
  },
  "language_info": {
   "codemirror_mode": {
    "name": "ipython",
    "version": 3
   },
   "file_extension": ".py",
   "mimetype": "text/x-python",
   "name": "python",
   "nbconvert_exporter": "python",
   "pygments_lexer": "ipython3",
   "version": "3.8.16"
  }
 },
 "nbformat": 4,
 "nbformat_minor": 5
}
