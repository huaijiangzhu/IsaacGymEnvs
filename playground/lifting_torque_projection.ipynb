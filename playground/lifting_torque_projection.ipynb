{
 "cells": [
  {
   "cell_type": "code",
   "execution_count": null,
   "id": "c2b7257a",
   "metadata": {},
   "outputs": [],
   "source": [
    "%matplotlib inline\n",
    "%load_ext autoreload\n",
    "%autoreload 2"
   ]
  },
  {
   "cell_type": "code",
   "execution_count": null,
   "id": "aabd71ce",
   "metadata": {
    "scrolled": false
   },
   "outputs": [],
   "source": [
    "import isaacgym\n",
    "import isaacgymenvs\n",
    "from isaacgymenvs.utils.reformat import omegaconf_to_dict, print_dict\n",
    "from isaacgymenvs.utils.utils import set_np_formatting, set_seed\n",
    "from isaacgymenvs.utils.rlgames_utils import RLGPUEnv, RLGPUAlgoObserver, get_rlgames_env_creator\n",
    "\n",
    "from rl_games.common import env_configurations, vecenv\n",
    "from rl_games.torch_runner import Runner\n",
    "from rl_games.algos_torch import model_builder\n",
    "\n",
    "from omegaconf import DictConfig, OmegaConf\n",
    "\n",
    "import torch\n",
    "import numpy as np\n",
    "import matplotlib.pyplot as plt\n",
    "\n",
    "from isaacgymenvs.qp.fista import ForceQP, FISTA\n",
    "from isaacgymenvs.qp.qp_utils import *\n",
    "from isaacgymenvs.qp.vecrobotics import *"
   ]
  },
  {
   "cell_type": "code",
   "execution_count": null,
   "id": "428e96d7",
   "metadata": {},
   "outputs": [],
   "source": [
    "cfg = OmegaConf.load(\"../isaacgymenvs/cfg/config.yaml\")\n",
    "cfg.task_name = \"TrifingerNYU\"\n",
    "cfg.num_envs = 1\n",
    "cfg.task = OmegaConf.load(\"../isaacgymenvs/cfg/task/TrifingerNYU.yaml\")\n",
    "\n",
    "cfg.task.env.command_mode = \"torque\"\n",
    "cfg.task.env.reset_distribution.object_initial_state.type = \"default\"\n",
    "cfg.task.normalize_action = False\n",
    "cfg.headless = False"
   ]
  },
  {
   "cell_type": "code",
   "execution_count": null,
   "id": "23d7bae6",
   "metadata": {},
   "outputs": [],
   "source": [
    "def create_env_thunk(**kwargs):\n",
    "    envs = isaacgymenvs.make(\n",
    "            cfg.seed, \n",
    "            cfg.task_name, \n",
    "            cfg.task.env.numEnvs, \n",
    "            cfg.sim_device,\n",
    "            cfg.rl_device,\n",
    "            cfg.graphics_device_id,\n",
    "            cfg.headless,\n",
    "            cfg.multi_gpu,\n",
    "            cfg.capture_video,\n",
    "            cfg.force_render,\n",
    "            cfg,\n",
    "            **kwargs,\n",
    "        )\n",
    "    return envs"
   ]
  },
  {
   "cell_type": "code",
   "execution_count": null,
   "id": "7a0958e5",
   "metadata": {},
   "outputs": [],
   "source": [
    "lifting_data = np.load(\"data/lifting.npz\", allow_pickle=True)[\"data\"]"
   ]
  },
  {
   "cell_type": "code",
   "execution_count": null,
   "id": "b1b84736",
   "metadata": {},
   "outputs": [],
   "source": [
    "device = cfg.sim_device\n",
    "envs = create_env_thunk()"
   ]
  },
  {
   "cell_type": "code",
   "execution_count": null,
   "id": "c554ca88",
   "metadata": {},
   "outputs": [],
   "source": [
    "# get ftip states\n",
    "envs.reset_idx(torch.arange(cfg.num_envs))\n",
    "N = 750\n",
    "action_buffer = torch.zeros(N, 9).to(device)\n",
    "ftip_pos_buffer = torch.zeros(N, 3, 3).to(device)\n",
    "ftip_pos_local_buffer = torch.zeros(N, 3, 3).to(device)\n",
    "object_pose_buffer = torch.zeros(N, 7).to(device)\n",
    "contact_normals_buffer = []\n",
    "\n",
    "q_buffer = torch.zeros(N, 9).to(device)\n",
    "dq_buffer = torch.zeros(N, 9).to(device)\n",
    "obs, rwds, resets, info = envs.step(torch.zeros(cfg.num_envs, 9))"
   ]
  },
  {
   "cell_type": "code",
   "execution_count": null,
   "id": "185790c8",
   "metadata": {},
   "outputs": [],
   "source": [
    "def get_location_qp_data(ftip_pos: torch.Tensor, object_pose: torch.Tensor, location_des: torch.Tensor, weights: List[float]):\n",
    "    # get ftip positin in the object frame\n",
    "    batch_size, num_ftip, _ = ftip_pos.shape\n",
    "    num_vars = num_ftip * 3\n",
    "\n",
    "    p = SE3_inverse_transform(object_pose.repeat_interleave(3, dim=0), ftip_pos.view(-1, 3))\n",
    "    contact_normals = get_cube_contact_normals(p)\n",
    "    \n",
    "    R = get_contact_frame_orn(contact_normals)\n",
    "    R_vstacked = R.transpose(1, 2).reshape(-1, 3 * num_ftip, 3)\n",
    "    Q1 = R_vstacked @ R_vstacked.transpose(1, 2)\n",
    "    \n",
    "    pxR = vec2skewsym_mat(p) @ R\n",
    "    pxR_vstacked = pxR.transpose(1, 2).reshape(-1, 3 * num_ftip, 3)\n",
    "    Q2 = pxR_vstacked @ pxR_vstacked.transpose(1, 2)\n",
    "    \n",
    "    w1, w2, w3 = weights\n",
    "    Q = w1 * Q1 + w2 * Q2 + w3 * torch.eye(3 * num_ftip).repeat(batch_size, 1, 1).to(Q1.device)\n",
    "\n",
    "    # for Q == 0, hence R1, R2, R3 == 0, fill the diagnoal of Q with ones. This produces f == 0\n",
    "    reshaped_tensor = Q.view(batch_size, -1)\n",
    "    diagonal_elements_zero = torch.all(reshaped_tensor[:, ::num_vars+1] == 0, dim=1)\n",
    "    mask = diagonal_elements_zero[:, None].repeat(1, num_vars)\n",
    "    diag_idx = torch.arange(num_vars)\n",
    "    Q[:, diag_idx, diag_idx] = Q[:, diag_idx, diag_idx].masked_fill_(mask, 1)\n",
    "    \n",
    "    object_orn = quat2mat(object_pose[:, 3:])\n",
    "    total_force_des_object_frame = bmv(object_orn.transpose(1,2), total_force_des)\n",
    "    q = -2 * bmv(R_vstacked, total_force_des_object_frame)\n",
    "    \n",
    "    return Q, q, R_vstacked, pxR_vstacked, contact_normals"
   ]
  },
  {
   "cell_type": "code",
   "execution_count": null,
   "id": "2055321e",
   "metadata": {
    "scrolled": false
   },
   "outputs": [],
   "source": [
    "# construct force QP\n",
    "batch_size = cfg.num_envs\n",
    "num_vars = 9\n",
    "lb = -10 * torch.ones(batch_size, num_vars)\n",
    "ub = 10 * torch.ones(batch_size, num_vars)\n",
    "mg = torch.tensor([0, 0, 9.81]).repeat(batch_size, 1).to(device)\n",
    "cost_weights = [1, 200, 1e-4]\n",
    "\n",
    "prob = ForceQP(batch_size, num_vars, friction_coeff=1.0, device=device)\n",
    "solver = FISTA(prob, device=device)\n",
    "max_it = 50\n",
    "\n",
    "for n in range(N):\n",
    "    q = envs._dof_position\n",
    "    dq = envs._dof_velocity\n",
    "    q_buffer[n] = q[0]\n",
    "    dq_buffer[n] = dq[0]\n",
    "    \n",
    "    ftip_state = envs._rigid_body_state[:, envs._fingertip_indices]\n",
    "    ftip_pos = ftip_state[:, :, 0:3]\n",
    "    ftip_vel = ftip_state[:, :, 7:10]\n",
    "    ftip_pos_buffer[n] = ftip_pos[0]\n",
    "    \n",
    "    object_pose = envs._object_state_history[0][:, 0:7]\n",
    "    object_orn = quat2mat(object_pose[:, 3:])\n",
    "    object_pose_buffer[n] = object_pose[0]\n",
    "    \n",
    "    time_idx = 0 if n < 200 else 20 * (n - 200)\n",
    "    ftip_pos_des = torch.tensor(lifting_data[time_idx]['policy']['controller']['ft_pos_des'], dtype=torch.float32).to(device)\n",
    "    ftip_vel_des = torch.tensor(lifting_data[time_idx]['policy']['controller']['ft_vel_des'], dtype=torch.float32).to(device)\n",
    "\n",
    "    ftip_pos_diff = ftip_pos_des - ftip_pos.reshape(cfg.num_envs, 9)\n",
    "    ftip_vel_diff = ftip_vel_des - ftip_vel.reshape(cfg.num_envs, 9)\n",
    "    \n",
    "    task_space_force = torch.tensor([300,300,300]*3, dtype=torch.float32, device=envs.device) * ftip_pos_diff\n",
    "    task_space_force += torch.tensor([5]*9, dtype=torch.float32, device=envs.device)  * ftip_vel_diff\n",
    "    jacobian_fingertip_linear = envs.get_fingertip_jacobian_linear()\n",
    "    jacobian_transpose = torch.transpose(jacobian_fingertip_linear, 1, 2)\n",
    "    \n",
    "    action = bmv(jacobian_transpose, task_space_force)\n",
    "    \n",
    "    action_buffer[n] = action[0]\n",
    "    obs, rwds, resets, info = envs.step(action)"
   ]
  },
  {
   "cell_type": "code",
   "execution_count": null,
   "id": "838ea41e",
   "metadata": {},
   "outputs": [],
   "source": [
    "lifting_data[0]['policy']['controller']['ft_pos_des']"
   ]
  },
  {
   "cell_type": "code",
   "execution_count": null,
   "id": "bdcf3e44",
   "metadata": {},
   "outputs": [],
   "source": [
    "ftip_pos_buffer[200]"
   ]
  },
  {
   "cell_type": "code",
   "execution_count": null,
   "id": "4050efff",
   "metadata": {},
   "outputs": [],
   "source": []
  }
 ],
 "metadata": {
  "kernelspec": {
   "display_name": "Python 3 (ipykernel)",
   "language": "python",
   "name": "python3"
  },
  "language_info": {
   "codemirror_mode": {
    "name": "ipython",
    "version": 3
   },
   "file_extension": ".py",
   "mimetype": "text/x-python",
   "name": "python",
   "nbconvert_exporter": "python",
   "pygments_lexer": "ipython3",
   "version": "3.8.16"
  }
 },
 "nbformat": 4,
 "nbformat_minor": 5
}
