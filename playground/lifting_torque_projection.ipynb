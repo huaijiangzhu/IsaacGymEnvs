{
 "cells": [
  {
   "cell_type": "code",
   "execution_count": 1,
   "id": "c2b7257a",
   "metadata": {},
   "outputs": [],
   "source": [
    "%matplotlib inline\n",
    "%load_ext autoreload\n",
    "%autoreload 2"
   ]
  },
  {
   "cell_type": "code",
   "execution_count": 2,
   "id": "aabd71ce",
   "metadata": {
    "scrolled": false
   },
   "outputs": [
    {
     "name": "stdout",
     "output_type": "stream",
     "text": [
      "Importing module 'gym_38' (/home/hz/devel/isaacgym/python/isaacgym/_bindings/linux-x86_64/gym_38.so)\n",
      "Setting GYM_USD_PLUG_INFO_PATH to /home/hz/devel/isaacgym/python/isaacgym/_bindings/linux-x86_64/usd/plugInfo.json\n"
     ]
    },
    {
     "name": "stderr",
     "output_type": "stream",
     "text": [
      "Warning: Gym version v0.24.1 has a number of critical issues with `gym.make` such that environment observation and action spaces are incorrectly evaluated, raising incorrect errors and warning . It is recommend to downgrading to v0.23.1 or upgrading to v0.25.1\n"
     ]
    },
    {
     "name": "stdout",
     "output_type": "stream",
     "text": [
      "PyTorch version 2.0.0\n",
      "Device count 1\n",
      "/home/hz/devel/isaacgym/python/isaacgym/_bindings/src/gymtorch\n"
     ]
    },
    {
     "name": "stderr",
     "output_type": "stream",
     "text": [
      "Using /home/hz/.cache/torch_extensions/py38_cu117 as PyTorch extensions root...\n",
      "Emitting ninja build file /home/hz/.cache/torch_extensions/py38_cu117/gymtorch/build.ninja...\n",
      "Building extension module gymtorch...\n",
      "Allowing ninja to set a default number of workers... (overridable by setting the environment variable MAX_JOBS=N)\n"
     ]
    },
    {
     "name": "stdout",
     "output_type": "stream",
     "text": [
      "ninja: no work to do.\n"
     ]
    },
    {
     "name": "stderr",
     "output_type": "stream",
     "text": [
      "Loading extension module gymtorch...\n",
      "2023-05-31 16:11:12,788 - INFO - logger - logger initialized\n"
     ]
    },
    {
     "name": "stdout",
     "output_type": "stream",
     "text": [
      "Error: FBX library failed to load - importing FBX data will not succeed. Message: No module named 'fbx'\n",
      "FBX tools must be installed from https://help.autodesk.com/view/FBX/2020/ENU/?guid=FBX_Developer_Help_scripting_with_python_fbx_installing_python_fbx_html\n"
     ]
    },
    {
     "name": "stderr",
     "output_type": "stream",
     "text": [
      "<unknown>:3: DeprecationWarning: invalid escape sequence \\*\n",
      "/home/hz/miniforge3/envs/rlgpu/lib/python3.8/site-packages/torch/utils/tensorboard/__init__.py:4: DeprecationWarning: distutils Version classes are deprecated. Use packaging.version instead.\n",
      "  if not hasattr(tensorboard, \"__version__\") or LooseVersion(\n"
     ]
    }
   ],
   "source": [
    "import isaacgym\n",
    "import isaacgymenvs\n",
    "from isaacgymenvs.utils.reformat import omegaconf_to_dict, print_dict\n",
    "from isaacgymenvs.utils.utils import set_np_formatting, set_seed\n",
    "from isaacgymenvs.utils.rlgames_utils import RLGPUEnv, RLGPUAlgoObserver, get_rlgames_env_creator\n",
    "\n",
    "from rl_games.common import env_configurations, vecenv\n",
    "from rl_games.torch_runner import Runner\n",
    "from rl_games.algos_torch import model_builder\n",
    "\n",
    "from omegaconf import DictConfig, OmegaConf\n",
    "\n",
    "import torch\n",
    "import numpy as np\n",
    "import matplotlib.pyplot as plt\n",
    "\n",
    "from isaacgymenvs.qp.fista import ForceQP, LocationQP, FISTA\n",
    "from isaacgymenvs.qp.qp_utils import *\n",
    "from isaacgymenvs.qp.vecrobotics import *"
   ]
  },
  {
   "cell_type": "code",
   "execution_count": 3,
   "id": "428e96d7",
   "metadata": {},
   "outputs": [],
   "source": [
    "cfg = OmegaConf.load(\"../isaacgymenvs/cfg/config.yaml\")\n",
    "cfg.task_name = \"TrifingerNYU\"\n",
    "cfg.num_envs = 1\n",
    "cfg.task = OmegaConf.load(\"../isaacgymenvs/cfg/task/TrifingerNYU.yaml\")\n",
    "\n",
    "cfg.task.env.command_mode = \"torque\"\n",
    "cfg.task.env.reset_distribution.object_initial_state.type = \"default\"\n",
    "cfg.task.normalize_action = False\n",
    "cfg.headless = True"
   ]
  },
  {
   "cell_type": "code",
   "execution_count": 4,
   "id": "23d7bae6",
   "metadata": {},
   "outputs": [],
   "source": [
    "def create_env_thunk(**kwargs):\n",
    "    envs = isaacgymenvs.make(\n",
    "            cfg.seed, \n",
    "            cfg.task_name, \n",
    "            cfg.task.env.numEnvs, \n",
    "            cfg.sim_device,\n",
    "            cfg.rl_device,\n",
    "            cfg.graphics_device_id,\n",
    "            cfg.headless,\n",
    "            cfg.multi_gpu,\n",
    "            cfg.capture_video,\n",
    "            cfg.force_render,\n",
    "            cfg,\n",
    "            **kwargs,\n",
    "        )\n",
    "    return envs"
   ]
  },
  {
   "cell_type": "code",
   "execution_count": 5,
   "id": "df30d707",
   "metadata": {},
   "outputs": [],
   "source": [
    "lifting_data = np.load(\"data/lifting2.npz\", allow_pickle=True)[\"data\"]"
   ]
  },
  {
   "cell_type": "code",
   "execution_count": 6,
   "id": "b1b84736",
   "metadata": {},
   "outputs": [
    {
     "name": "stderr",
     "output_type": "stream",
     "text": [
      "/home/hz/miniforge3/envs/rlgpu/lib/python3.8/site-packages/gym/spaces/box.py:112: UserWarning: \u001b[33mWARN: Box bound precision lowered by casting to float32\u001b[0m\n",
      "  logger.warn(f\"Box bound precision lowered by casting to {self.dtype}\")\n",
      "/home/hz/learning/IsaacGymEnvs/isaacgymenvs/tasks/trifingerNYU.py:1378: DeprecationWarning: an integer is required (got type isaacgym._bindings.linux-x86_64.gym_38.DofDriveMode).  Implicit conversion to integers using __int__ is deprecated, and may be removed in a future version of Python.\n",
      "  robot_asset_options.default_dof_drive_mode = gymapi.DOF_MODE_EFFORT\n"
     ]
    },
    {
     "name": "stdout",
     "output_type": "stream",
     "text": [
      "[Warning] [carb.gym.plugin] useGpu is set, forcing single scene (0 subscenes)\n",
      "Not connected to PVD\n",
      "+++ Using GPU PhysX\n",
      "Physics Engine: PhysX\n",
      "Physics Device: cuda:0\n",
      "GPU Pipeline: enabled\n",
      "Trifinger Robot Asset: \n",
      "\t Number of bodies: 23\n",
      "\t Number of shapes: 39\n",
      "\t Number of dofs: 9\n",
      "\t Number of actuated dofs: 9\n",
      "Trifinger Table Asset: \n",
      "\t Number of bodies: 2\n",
      "\t Number of shapes: 1\n",
      "Trifinger Boundary Asset: \n",
      "\t Number of bodies: 1\n",
      "\t Number of shapes: 41\n",
      "Using VHACD cache directory '/home/hz/.isaacgym/vhacd'\n",
      "Found existing convex decomposition for mesh '/home/hz/learning/IsaacGymEnvs/isaacgymenvs/../assets/trifinger/robot_properties_fingers/meshes/pro/int_sim.stl'\n",
      "Found existing convex decomposition for mesh '/home/hz/learning/IsaacGymEnvs/isaacgymenvs/../assets/trifinger/robot_properties_fingers/meshes/pro/prox-sim.stl'\n",
      "Found existing convex decomposition for mesh '/home/hz/learning/IsaacGymEnvs/isaacgymenvs/../assets/trifinger/robot_properties_fingers/meshes/pro/tip_link_sim.stl'\n",
      "Found existing convex decomposition for mesh '/home/hz/learning/IsaacGymEnvs/isaacgymenvs/../assets/trifinger/robot_properties_fingers/meshes/pro/tip_sim.stl'\n",
      "Found existing convex decomposition for mesh '/home/hz/learning/IsaacGymEnvs/isaacgymenvs/../assets/trifinger/robot_properties_fingers/meshes/high_table_boundary.stl'\n",
      "[Warning] [carb.gym.plugin] Acquiring DOF force tensor, but no actors have DOF force sensors enabled.\n",
      "[Warning] [carb.gym.plugin] -> Enabled DOF force sensors for all eligible actors.\n",
      "MDP Raw observation bounds\n",
      "\tLow: tensor([ -0.3300,   0.0000,  -2.7000,  -0.3300,   0.0000,  -2.7000,  -0.3300,\n",
      "          0.0000,  -2.7000, -10.0000, -10.0000, -10.0000, -10.0000, -10.0000,\n",
      "        -10.0000, -10.0000, -10.0000, -10.0000,  -0.4000,  -0.4000,   0.0000,\n",
      "         -1.0000,  -1.0000,  -1.0000,  -1.0000,  -0.2000,  -0.2000,  -0.2000,\n",
      "         -0.2000,  -0.2000,  -0.2000,  -0.4000,  -0.4000,   0.0000,  -1.0000,\n",
      "         -1.0000,  -1.0000,  -1.0000,  -0.2000,  -0.2000,  -0.2000,  -0.2000,\n",
      "         -0.2000,  -0.2000,  -0.4000,  -0.4000,   0.0000,  -1.0000,  -1.0000,\n",
      "         -1.0000,  -1.0000,  -0.2000,  -0.2000,  -0.2000,  -0.2000,  -0.2000,\n",
      "         -0.2000,  -0.4000,  -0.4000,   0.0000,  -0.4000,  -0.4000,   0.0000,\n",
      "         -0.4000,  -0.4000,   0.0000,  -0.3000,  -0.3000,   0.0000,  -1.0000,\n",
      "         -1.0000,  -1.0000,  -1.0000,  -0.3000,  -0.3000,   0.0000,  -1.0000,\n",
      "         -1.0000,  -1.0000,  -1.0000,  -1.0000,  -1.0000,  -1.0000,  -1.0000,\n",
      "         -1.0000,  -1.0000,  -1.0000,  -1.0000,  -1.0000], device='cuda:0')\n",
      "\tHigh: tensor([ 1.0000,  1.5700,  0.0000,  1.0000,  1.5700,  0.0000,  1.0000,  1.5700,\n",
      "         0.0000, 10.0000, 10.0000, 10.0000, 10.0000, 10.0000, 10.0000, 10.0000,\n",
      "        10.0000, 10.0000,  0.4000,  0.4000,  0.5000,  1.0000,  1.0000,  1.0000,\n",
      "         1.0000,  0.2000,  0.2000,  0.2000,  0.2000,  0.2000,  0.2000,  0.4000,\n",
      "         0.4000,  0.5000,  1.0000,  1.0000,  1.0000,  1.0000,  0.2000,  0.2000,\n",
      "         0.2000,  0.2000,  0.2000,  0.2000,  0.4000,  0.4000,  0.5000,  1.0000,\n",
      "         1.0000,  1.0000,  1.0000,  0.2000,  0.2000,  0.2000,  0.2000,  0.2000,\n",
      "         0.2000,  0.4000,  0.4000,  0.5000,  0.4000,  0.4000,  0.5000,  0.4000,\n",
      "         0.4000,  0.5000,  0.3000,  0.3000,  0.3000,  1.0000,  1.0000,  1.0000,\n",
      "         1.0000,  0.3000,  0.3000,  0.3000,  1.0000,  1.0000,  1.0000,  1.0000,\n",
      "         1.0000,  1.0000,  1.0000,  1.0000,  1.0000,  1.0000,  1.0000,  1.0000,\n",
      "         1.0000], device='cuda:0')\n",
      "MDP Raw state bounds\n",
      "\tLow: tensor([ -0.3300,   0.0000,  -2.7000,  -0.3300,   0.0000,  -2.7000,  -0.3300,\n",
      "          0.0000,  -2.7000, -10.0000, -10.0000, -10.0000, -10.0000, -10.0000,\n",
      "        -10.0000, -10.0000, -10.0000, -10.0000,  -0.4000,  -0.4000,   0.0000,\n",
      "         -1.0000,  -1.0000,  -1.0000,  -1.0000,  -0.2000,  -0.2000,  -0.2000,\n",
      "         -0.2000,  -0.2000,  -0.2000,  -0.4000,  -0.4000,   0.0000,  -1.0000,\n",
      "         -1.0000,  -1.0000,  -1.0000,  -0.2000,  -0.2000,  -0.2000,  -0.2000,\n",
      "         -0.2000,  -0.2000,  -0.4000,  -0.4000,   0.0000,  -1.0000,  -1.0000,\n",
      "         -1.0000,  -1.0000,  -0.2000,  -0.2000,  -0.2000,  -0.2000,  -0.2000,\n",
      "         -0.2000,  -0.4000,  -0.4000,   0.0000,  -0.4000,  -0.4000,   0.0000,\n",
      "         -0.4000,  -0.4000,   0.0000,  -0.3000,  -0.3000,   0.0000,  -1.0000,\n",
      "         -1.0000,  -1.0000,  -1.0000,  -0.3000,  -0.3000,   0.0000,  -1.0000,\n",
      "         -1.0000,  -1.0000,  -1.0000,  -1.0000,  -1.0000,  -1.0000,  -1.0000,\n",
      "         -1.0000,  -1.0000,  -1.0000,  -1.0000,  -1.0000,  -0.5000,  -0.5000,\n",
      "         -0.5000,  -0.5000,  -0.5000,  -0.5000,  -0.3600,  -0.3600,  -0.3600,\n",
      "         -0.3600,  -0.3600,  -0.3600,  -0.3600,  -0.3600,  -0.3600,  -1.0000,\n",
      "         -1.0000,  -1.0000,  -1.0000,  -1.0000,  -1.0000,  -1.0000,  -1.0000,\n",
      "         -1.0000,  -1.0000,  -1.0000,  -1.0000,  -1.0000,  -1.0000,  -1.0000,\n",
      "         -1.0000,  -1.0000,  -1.0000], device='cuda:0')\n",
      "\tHigh: tensor([ 1.0000,  1.5700,  0.0000,  1.0000,  1.5700,  0.0000,  1.0000,  1.5700,\n",
      "         0.0000, 10.0000, 10.0000, 10.0000, 10.0000, 10.0000, 10.0000, 10.0000,\n",
      "        10.0000, 10.0000,  0.4000,  0.4000,  0.5000,  1.0000,  1.0000,  1.0000,\n",
      "         1.0000,  0.2000,  0.2000,  0.2000,  0.2000,  0.2000,  0.2000,  0.4000,\n",
      "         0.4000,  0.5000,  1.0000,  1.0000,  1.0000,  1.0000,  0.2000,  0.2000,\n",
      "         0.2000,  0.2000,  0.2000,  0.2000,  0.4000,  0.4000,  0.5000,  1.0000,\n",
      "         1.0000,  1.0000,  1.0000,  0.2000,  0.2000,  0.2000,  0.2000,  0.2000,\n",
      "         0.2000,  0.4000,  0.4000,  0.5000,  0.4000,  0.4000,  0.5000,  0.4000,\n",
      "         0.4000,  0.5000,  0.3000,  0.3000,  0.3000,  1.0000,  1.0000,  1.0000,\n",
      "         1.0000,  0.3000,  0.3000,  0.3000,  1.0000,  1.0000,  1.0000,  1.0000,\n",
      "         1.0000,  1.0000,  1.0000,  1.0000,  1.0000,  1.0000,  1.0000,  1.0000,\n",
      "         1.0000,  0.5000,  0.5000,  0.5000,  0.5000,  0.5000,  0.5000,  0.3600,\n",
      "         0.3600,  0.3600,  0.3600,  0.3600,  0.3600,  0.3600,  0.3600,  0.3600,\n",
      "         1.0000,  1.0000,  1.0000,  1.0000,  1.0000,  1.0000,  1.0000,  1.0000,\n",
      "         1.0000,  1.0000,  1.0000,  1.0000,  1.0000,  1.0000,  1.0000,  1.0000,\n",
      "         1.0000,  1.0000], device='cuda:0')\n",
      "MDP Raw action bounds\n",
      "\tLow: tensor([-0.3600, -0.3600, -0.3600, -0.3600, -0.3600, -0.3600, -0.3600, -0.3600,\n",
      "        -0.3600], device='cuda:0')\n",
      "\tHigh: tensor([0.3600, 0.3600, 0.3600, 0.3600, 0.3600, 0.3600, 0.3600, 0.3600, 0.3600],\n",
      "       device='cuda:0')\n"
     ]
    }
   ],
   "source": [
    "device = cfg.sim_device\n",
    "envs = create_env_thunk()"
   ]
  },
  {
   "cell_type": "code",
   "execution_count": 7,
   "id": "c554ca88",
   "metadata": {},
   "outputs": [],
   "source": [
    "# get ftip states\n",
    "envs.reset_idx(torch.arange(cfg.num_envs))\n",
    "N = 750\n",
    "action_buffer = torch.zeros(N, 9).to(device)\n",
    "ftip_pos_buffer = torch.zeros(N, 3, 3).to(device)\n",
    "ftip_pos_local_buffer = torch.zeros(N, 3, 3).to(device)\n",
    "object_pose_buffer = torch.zeros(N, 7).to(device)\n",
    "contact_normals_buffer = []\n",
    "\n",
    "q_buffer = torch.zeros(N, 9).to(device)\n",
    "dq_buffer = torch.zeros(N, 9).to(device)\n",
    "obs, rwds, resets, info = envs.step(torch.zeros(cfg.num_envs, 9))"
   ]
  },
  {
   "cell_type": "code",
   "execution_count": 8,
   "id": "2055321e",
   "metadata": {
    "scrolled": false
   },
   "outputs": [],
   "source": [
    "# construct force QP\n",
    "batch_size = cfg.num_envs\n",
    "num_vars = 9\n",
    "lb = -10 * torch.ones(batch_size, num_vars)\n",
    "ub = 10 * torch.ones(batch_size, num_vars)\n",
    "mg = torch.tensor([0, 0, 9.81]).repeat(batch_size, 1).to(device)\n",
    "cost_weights = [1, 200, 1e-4]\n",
    "\n",
    "for n in range(N):\n",
    "    q = envs._dof_position\n",
    "    dq = envs._dof_velocity\n",
    "    q_buffer[n] = q[0]\n",
    "    dq_buffer[n] = dq[0]\n",
    "    \n",
    "    ftip_state = envs._rigid_body_state[:, envs._fingertip_indices]\n",
    "    ftip_pos = ftip_state[:, :, 0:3]\n",
    "    ftip_vel = ftip_state[:, :, 7:10]\n",
    "    ftip_pos_buffer[n] = ftip_pos[0]\n",
    "    \n",
    "    object_pose = envs._object_state_history[0][:, 0:7]\n",
    "    object_orn = quat2mat(object_pose[:, 3:])\n",
    "    object_pose_buffer[n] = object_pose[0]\n",
    "    \n",
    "    time_idx = 0 if n < 200 else 20 * (n - 200)\n",
    "    ftip_pos_des = torch.tensor(lifting_data[time_idx]['policy']['controller']['ft_pos_des'], dtype=torch.float32).to(device)\n",
    "    ftip_vel_des = torch.tensor(lifting_data[time_idx]['policy']['controller']['ft_vel_des'], dtype=torch.float32).to(device)\n",
    "\n",
    "    ftip_pos_diff = ftip_pos_des - ftip_pos.reshape(cfg.num_envs, 9)\n",
    "    ftip_vel_diff = ftip_vel_des - ftip_vel.reshape(cfg.num_envs, 9)\n",
    "    \n",
    "    task_space_force = torch.tensor([200,200,200]*3, dtype=torch.float32, device=envs.device) * ftip_pos_diff\n",
    "    task_space_force += torch.tensor([5]*9, dtype=torch.float32, device=envs.device)  * ftip_vel_diff\n",
    "    jacobian = envs.get_fingertip_jacobian_linear()\n",
    "    jacobian_transpose = torch.transpose(jacobian, 1, 2)\n",
    "    \n",
    "    action = bmv(jacobian_transpose, task_space_force)\n",
    "    \n",
    "    action_buffer[n] = action[0]\n",
    "    obs, rwds, resets, info = envs.step(action)"
   ]
  },
  {
   "cell_type": "code",
   "execution_count": 38,
   "id": "5ac05b2a",
   "metadata": {},
   "outputs": [],
   "source": [
    "weights = [100, 10]\n",
    "batch_size, num_ftip, _ = ftip_pos.shape\n",
    "num_vars = num_ftip * 3\n",
    "diag_idx = torch.arange(num_vars)\n",
    "\n",
    "Q1 = jacobian @ jacobian_transpose\n",
    "q1 = -2 * bmv(jacobian_transpose, torch.zeros_like(action))\n",
    "\n",
    "Q2 = torch.zeros_like(Q1)\n",
    "Q2[:, diag_idx, diag_idx] = 1.\n",
    "q2 = -2 * task_space_force\n",
    "\n",
    "w1, w2 = weights\n",
    "Q = w1*Q1 + w2*Q2\n",
    "q = w1*q1 + w2*q2"
   ]
  },
  {
   "cell_type": "code",
   "execution_count": 39,
   "id": "9da4c325",
   "metadata": {},
   "outputs": [
    {
     "data": {
      "text/plain": [
       "tensor([[-10.00,   4.40, -10.00,   1.12,   3.98,  -7.20,   5.07,  -7.57,  -3.65]], device='cuda:0')"
      ]
     },
     "execution_count": 39,
     "metadata": {},
     "output_type": "execute_result"
    }
   ],
   "source": [
    "lb = -10 * torch.ones(envs.num_envs, num_vars)\n",
    "ub = 10 * torch.ones(envs.num_envs, num_vars)\n",
    "\n",
    "prob = LocationQP(batch_size, num_vars, device=device)\n",
    "qp_solver = FISTA(prob, device=device)\n",
    "max_it = 20\n",
    "\n",
    "qp_solver.prob.set_data(Q, q, lb, ub)\n",
    "qp_solver.reset()\n",
    "for i in range(max_it):\n",
    "    qp_solver.step()\n",
    "\n",
    "qp_solver.prob.yk"
   ]
  },
  {
   "cell_type": "code",
   "execution_count": 40,
   "id": "bff39f9f",
   "metadata": {},
   "outputs": [
    {
     "data": {
      "text/plain": [
       "tensor([[-14.56,   6.48, -18.53,   2.74,   5.48,  -9.64,   6.47, -10.60,  -5.92]], device='cuda:0')"
      ]
     },
     "execution_count": 40,
     "metadata": {},
     "output_type": "execute_result"
    }
   ],
   "source": [
    "task_space_force"
   ]
  },
  {
   "cell_type": "code",
   "execution_count": 41,
   "id": "4cc2609e",
   "metadata": {},
   "outputs": [
    {
     "data": {
      "text/plain": [
       "tensor([[ 2.26,  0.99,  1.79,  1.19,  0.02,  1.06,  1.89, -0.03,  0.50]], device='cuda:0')"
      ]
     },
     "execution_count": 41,
     "metadata": {},
     "output_type": "execute_result"
    }
   ],
   "source": [
    "bmv(jacobian_transpose, qp_solver.prob.yk)"
   ]
  },
  {
   "cell_type": "code",
   "execution_count": 42,
   "id": "799a3cd4",
   "metadata": {},
   "outputs": [
    {
     "data": {
      "text/plain": [
       "tensor([[3.60, 1.58, 3.22, 1.72, 0.19, 1.48, 2.66, 0.06, 0.86]], device='cuda:0')"
      ]
     },
     "execution_count": 42,
     "metadata": {},
     "output_type": "execute_result"
    }
   ],
   "source": [
    "bmv(jacobian_transpose, task_space_force)"
   ]
  },
  {
   "cell_type": "code",
   "execution_count": 43,
   "id": "28e0b4f1",
   "metadata": {},
   "outputs": [
    {
     "data": {
      "text/plain": [
       "tensor([[3.60, 1.58, 3.22, 1.72, 0.19, 1.48, 2.66, 0.06, 0.86]], device='cuda:0')"
      ]
     },
     "execution_count": 43,
     "metadata": {},
     "output_type": "execute_result"
    }
   ],
   "source": [
    "action"
   ]
  },
  {
   "cell_type": "code",
   "execution_count": 44,
   "id": "cb39784c",
   "metadata": {},
   "outputs": [
    {
     "name": "stdout",
     "output_type": "stream",
     "text": [
      "tensor([[[    -0.15,      0.00,     -0.08,      0.00,      0.00,      0.00,      0.00,      0.00,      0.00],\n",
      "         [    -0.00,      0.14,     -0.03,      0.00,      0.00,      0.00,      0.00,      0.00,      0.00],\n",
      "         [    -0.01,      0.04,     -0.16,      0.00,      0.00,      0.00,      0.00,      0.00,      0.00],\n",
      "         [     0.00,      0.00,      0.00,      0.08,      0.14,     -0.07,      0.00,      0.00,      0.00],\n",
      "         [     0.00,      0.00,      0.00,      0.14,     -0.08,     -0.02,      0.00,      0.00,      0.00],\n",
      "         [     0.00,      0.00,      0.00,      0.06,     -0.02,     -0.15,      0.00,      0.00,      0.00],\n",
      "         [     0.00,      0.00,      0.00,      0.00,      0.00,      0.00,      0.09,     -0.15,     -0.08],\n",
      "         [     0.00,      0.00,      0.00,      0.00,      0.00,      0.00,     -0.15,     -0.09,     -0.02],\n",
      "         [     0.00,      0.00,      0.00,      0.00,      0.00,      0.00,     -0.06,     -0.04,     -0.14]]], device='cuda:0')\n"
     ]
    }
   ],
   "source": [
    "torch.set_printoptions(precision=2, sci_mode=False, linewidth=200)\n",
    "print(jacobian_transpose)"
   ]
  },
  {
   "cell_type": "code",
   "execution_count": null,
   "id": "20c0885e",
   "metadata": {},
   "outputs": [],
   "source": []
  },
  {
   "cell_type": "code",
   "execution_count": null,
   "id": "c1a2c2f9",
   "metadata": {},
   "outputs": [],
   "source": []
  }
 ],
 "metadata": {
  "kernelspec": {
   "display_name": "Python 3 (ipykernel)",
   "language": "python",
   "name": "python3"
  },
  "language_info": {
   "codemirror_mode": {
    "name": "ipython",
    "version": 3
   },
   "file_extension": ".py",
   "mimetype": "text/x-python",
   "name": "python",
   "nbconvert_exporter": "python",
   "pygments_lexer": "ipython3",
   "version": "3.8.16"
  }
 },
 "nbformat": 4,
 "nbformat_minor": 5
}
