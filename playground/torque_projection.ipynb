{
 "cells": [
  {
   "cell_type": "code",
   "execution_count": 1,
   "id": "c2b7257a",
   "metadata": {},
   "outputs": [],
   "source": [
    "%matplotlib inline\n",
    "%load_ext autoreload\n",
    "%autoreload 2"
   ]
  },
  {
   "cell_type": "code",
   "execution_count": 2,
   "id": "aabd71ce",
   "metadata": {
    "scrolled": false
   },
   "outputs": [
    {
     "name": "stdout",
     "output_type": "stream",
     "text": [
      "Importing module 'gym_38' (/home/hz/devel/isaacgym/python/isaacgym/_bindings/linux-x86_64/gym_38.so)\n",
      "Setting GYM_USD_PLUG_INFO_PATH to /home/hz/devel/isaacgym/python/isaacgym/_bindings/linux-x86_64/usd/plugInfo.json\n"
     ]
    },
    {
     "name": "stderr",
     "output_type": "stream",
     "text": [
      "Warning: Gym version v0.24.1 has a number of critical issues with `gym.make` such that environment observation and action spaces are incorrectly evaluated, raising incorrect errors and warning . It is recommend to downgrading to v0.23.1 or upgrading to v0.25.1\n"
     ]
    },
    {
     "name": "stdout",
     "output_type": "stream",
     "text": [
      "PyTorch version 2.0.0\n",
      "Device count 1\n",
      "/home/hz/devel/isaacgym/python/isaacgym/_bindings/src/gymtorch\n"
     ]
    },
    {
     "name": "stderr",
     "output_type": "stream",
     "text": [
      "Using /home/hz/.cache/torch_extensions/py38_cu117 as PyTorch extensions root...\n",
      "Emitting ninja build file /home/hz/.cache/torch_extensions/py38_cu117/gymtorch/build.ninja...\n",
      "Building extension module gymtorch...\n",
      "Allowing ninja to set a default number of workers... (overridable by setting the environment variable MAX_JOBS=N)\n"
     ]
    },
    {
     "name": "stdout",
     "output_type": "stream",
     "text": [
      "ninja: no work to do.\n"
     ]
    },
    {
     "name": "stderr",
     "output_type": "stream",
     "text": [
      "Loading extension module gymtorch...\n",
      "2023-06-13 16:03:50,237 - INFO - logger - logger initialized\n"
     ]
    },
    {
     "name": "stdout",
     "output_type": "stream",
     "text": [
      "Error: FBX library failed to load - importing FBX data will not succeed. Message: No module named 'fbx'\n",
      "FBX tools must be installed from https://help.autodesk.com/view/FBX/2020/ENU/?guid=FBX_Developer_Help_scripting_with_python_fbx_installing_python_fbx_html\n"
     ]
    },
    {
     "name": "stderr",
     "output_type": "stream",
     "text": [
      "<unknown>:3: DeprecationWarning: invalid escape sequence \\*\n",
      "/home/hz/miniforge3/envs/rlgpu/lib/python3.8/site-packages/torch/utils/tensorboard/__init__.py:4: DeprecationWarning: distutils Version classes are deprecated. Use packaging.version instead.\n",
      "  if not hasattr(tensorboard, \"__version__\") or LooseVersion(\n"
     ]
    }
   ],
   "source": [
    "import isaacgym\n",
    "import isaacgymenvs\n",
    "from isaacgymenvs.utils.reformat import omegaconf_to_dict, print_dict\n",
    "from isaacgymenvs.utils.utils import set_np_formatting, set_seed\n",
    "from isaacgymenvs.utils.rlgames_utils import RLGPUEnv, RLGPUAlgoObserver, get_rlgames_env_creator\n",
    "\n",
    "from rl_games.common import env_configurations, vecenv\n",
    "from rl_games.torch_runner import Runner\n",
    "from rl_games.algos_torch import model_builder\n",
    "\n",
    "from omegaconf import DictConfig, OmegaConf\n",
    "\n",
    "import torch\n",
    "import numpy as np\n",
    "import matplotlib.pyplot as plt\n",
    "\n",
    "from isaacgymenvs.qp.fista import ForceQP, LocationQP, FISTA\n",
    "from isaacgymenvs.qp.qp_utils import *\n",
    "from isaacgymenvs.qp.vecrobotics import *"
   ]
  },
  {
   "cell_type": "code",
   "execution_count": 3,
   "id": "428e96d7",
   "metadata": {},
   "outputs": [],
   "source": [
    "cfg = OmegaConf.load(\"../isaacgymenvs/cfg/config.yaml\")\n",
    "cfg.task_name = \"TrifingerNYU\"\n",
    "cfg.num_envs = 4\n",
    "cfg.task = OmegaConf.load(\"../isaacgymenvs/cfg/task/TrifingerNYU.yaml\")\n",
    "\n",
    "cfg.task.env.command_mode = \"torque\"\n",
    "cfg.task.env.enable_location_qp = False\n",
    "cfg.task.env.reset_distribution.object_initial_state.type = \"default\"\n",
    "cfg.task.normalize_action = False\n",
    "cfg.headless = False"
   ]
  },
  {
   "cell_type": "code",
   "execution_count": 4,
   "id": "23d7bae6",
   "metadata": {},
   "outputs": [],
   "source": [
    "def create_env_thunk(**kwargs):\n",
    "    envs = isaacgymenvs.make(\n",
    "            cfg.seed, \n",
    "            cfg.task_name, \n",
    "            cfg.task.env.numEnvs, \n",
    "            cfg.sim_device,\n",
    "            cfg.rl_device,\n",
    "            cfg.graphics_device_id,\n",
    "            cfg.headless,\n",
    "            cfg.multi_gpu,\n",
    "            cfg.capture_video,\n",
    "            cfg.force_render,\n",
    "            cfg,\n",
    "            **kwargs,\n",
    "        )\n",
    "    return envs"
   ]
  },
  {
   "cell_type": "code",
   "execution_count": 5,
   "id": "df30d707",
   "metadata": {},
   "outputs": [],
   "source": [
    "lifting_data = np.load(\"data/lifting2.npz\", allow_pickle=True)[\"data\"]"
   ]
  },
  {
   "cell_type": "code",
   "execution_count": 6,
   "id": "b1b84736",
   "metadata": {},
   "outputs": [
    {
     "name": "stderr",
     "output_type": "stream",
     "text": [
      "/home/hz/miniforge3/envs/rlgpu/lib/python3.8/site-packages/gym/spaces/box.py:112: UserWarning: \u001b[33mWARN: Box bound precision lowered by casting to float32\u001b[0m\n",
      "  logger.warn(f\"Box bound precision lowered by casting to {self.dtype}\")\n",
      "/home/hz/learning/IsaacGymEnvs/isaacgymenvs/tasks/trifingerNYU.py:1389: DeprecationWarning: an integer is required (got type isaacgym._bindings.linux-x86_64.gym_38.DofDriveMode).  Implicit conversion to integers using __int__ is deprecated, and may be removed in a future version of Python.\n",
      "  robot_asset_options.default_dof_drive_mode = gymapi.DOF_MODE_EFFORT\n"
     ]
    },
    {
     "name": "stdout",
     "output_type": "stream",
     "text": [
      "[Warning] [carb.gym.plugin] useGpu is set, forcing single scene (0 subscenes)\n",
      "Not connected to PVD\n",
      "+++ Using GPU PhysX\n",
      "Physics Engine: PhysX\n",
      "Physics Device: cuda:0\n",
      "GPU Pipeline: enabled\n",
      "Trifinger Robot Asset: \n",
      "\t Number of bodies: 23\n",
      "\t Number of shapes: 39\n",
      "\t Number of dofs: 9\n",
      "\t Number of actuated dofs: 9\n",
      "Trifinger Table Asset: \n",
      "\t Number of bodies: 2\n",
      "\t Number of shapes: 1\n",
      "Trifinger Boundary Asset: \n",
      "\t Number of bodies: 1\n",
      "\t Number of shapes: 41\n",
      "Using VHACD cache directory '/home/hz/.isaacgym/vhacd'\n",
      "Found existing convex decomposition for mesh '/home/hz/learning/IsaacGymEnvs/isaacgymenvs/../assets/trifinger/robot_properties_fingers/meshes/pro/int_sim.stl'\n",
      "Found existing convex decomposition for mesh '/home/hz/learning/IsaacGymEnvs/isaacgymenvs/../assets/trifinger/robot_properties_fingers/meshes/pro/prox-sim.stl'\n",
      "Found existing convex decomposition for mesh '/home/hz/learning/IsaacGymEnvs/isaacgymenvs/../assets/trifinger/robot_properties_fingers/meshes/pro/tip_link_sim.stl'\n",
      "Found existing convex decomposition for mesh '/home/hz/learning/IsaacGymEnvs/isaacgymenvs/../assets/trifinger/robot_properties_fingers/meshes/pro/tip_sim.stl'\n",
      "Found existing convex decomposition for mesh '/home/hz/learning/IsaacGymEnvs/isaacgymenvs/../assets/trifinger/robot_properties_fingers/meshes/high_table_boundary.stl'\n",
      "[Warning] [carb.gym.plugin] Acquiring DOF force tensor, but no actors have DOF force sensors enabled.\n",
      "[Warning] [carb.gym.plugin] -> Enabled DOF force sensors for all eligible actors.\n",
      "MDP Raw observation bounds\n",
      "\tLow: tensor([ -0.3300,   0.0000,  -2.7000,  -0.3300,   0.0000,  -2.7000,  -0.3300,\n",
      "          0.0000,  -2.7000, -10.0000, -10.0000, -10.0000, -10.0000, -10.0000,\n",
      "        -10.0000, -10.0000, -10.0000, -10.0000,  -0.4000,  -0.4000,   0.0000,\n",
      "         -1.0000,  -1.0000,  -1.0000,  -1.0000,  -0.2000,  -0.2000,  -0.2000,\n",
      "         -0.2000,  -0.2000,  -0.2000,  -0.4000,  -0.4000,   0.0000,  -1.0000,\n",
      "         -1.0000,  -1.0000,  -1.0000,  -0.2000,  -0.2000,  -0.2000,  -0.2000,\n",
      "         -0.2000,  -0.2000,  -0.4000,  -0.4000,   0.0000,  -1.0000,  -1.0000,\n",
      "         -1.0000,  -1.0000,  -0.2000,  -0.2000,  -0.2000,  -0.2000,  -0.2000,\n",
      "         -0.2000,  -0.4000,  -0.4000,   0.0000,  -0.4000,  -0.4000,   0.0000,\n",
      "         -0.4000,  -0.4000,   0.0000,  -0.3000,  -0.3000,   0.0000,  -1.0000,\n",
      "         -1.0000,  -1.0000,  -1.0000,  -0.3000,  -0.3000,   0.0000,  -1.0000,\n",
      "         -1.0000,  -1.0000,  -1.0000,  -1.0000,  -1.0000,  -1.0000,  -1.0000,\n",
      "         -1.0000,  -1.0000,  -1.0000,  -1.0000,  -1.0000], device='cuda:0')\n",
      "\tHigh: tensor([ 1.0000,  1.5700,  0.0000,  1.0000,  1.5700,  0.0000,  1.0000,  1.5700,\n",
      "         0.0000, 10.0000, 10.0000, 10.0000, 10.0000, 10.0000, 10.0000, 10.0000,\n",
      "        10.0000, 10.0000,  0.4000,  0.4000,  0.5000,  1.0000,  1.0000,  1.0000,\n",
      "         1.0000,  0.2000,  0.2000,  0.2000,  0.2000,  0.2000,  0.2000,  0.4000,\n",
      "         0.4000,  0.5000,  1.0000,  1.0000,  1.0000,  1.0000,  0.2000,  0.2000,\n",
      "         0.2000,  0.2000,  0.2000,  0.2000,  0.4000,  0.4000,  0.5000,  1.0000,\n",
      "         1.0000,  1.0000,  1.0000,  0.2000,  0.2000,  0.2000,  0.2000,  0.2000,\n",
      "         0.2000,  0.4000,  0.4000,  0.5000,  0.4000,  0.4000,  0.5000,  0.4000,\n",
      "         0.4000,  0.5000,  0.3000,  0.3000,  0.3000,  1.0000,  1.0000,  1.0000,\n",
      "         1.0000,  0.3000,  0.3000,  0.3000,  1.0000,  1.0000,  1.0000,  1.0000,\n",
      "         1.0000,  1.0000,  1.0000,  1.0000,  1.0000,  1.0000,  1.0000,  1.0000,\n",
      "         1.0000], device='cuda:0')\n",
      "MDP Raw state bounds\n",
      "\tLow: tensor([ -0.3300,   0.0000,  -2.7000,  -0.3300,   0.0000,  -2.7000,  -0.3300,\n",
      "          0.0000,  -2.7000, -10.0000, -10.0000, -10.0000, -10.0000, -10.0000,\n",
      "        -10.0000, -10.0000, -10.0000, -10.0000,  -0.4000,  -0.4000,   0.0000,\n",
      "         -1.0000,  -1.0000,  -1.0000,  -1.0000,  -0.2000,  -0.2000,  -0.2000,\n",
      "         -0.2000,  -0.2000,  -0.2000,  -0.4000,  -0.4000,   0.0000,  -1.0000,\n",
      "         -1.0000,  -1.0000,  -1.0000,  -0.2000,  -0.2000,  -0.2000,  -0.2000,\n",
      "         -0.2000,  -0.2000,  -0.4000,  -0.4000,   0.0000,  -1.0000,  -1.0000,\n",
      "         -1.0000,  -1.0000,  -0.2000,  -0.2000,  -0.2000,  -0.2000,  -0.2000,\n",
      "         -0.2000,  -0.4000,  -0.4000,   0.0000,  -0.4000,  -0.4000,   0.0000,\n",
      "         -0.4000,  -0.4000,   0.0000,  -0.3000,  -0.3000,   0.0000,  -1.0000,\n",
      "         -1.0000,  -1.0000,  -1.0000,  -0.3000,  -0.3000,   0.0000,  -1.0000,\n",
      "         -1.0000,  -1.0000,  -1.0000,  -1.0000,  -1.0000,  -1.0000,  -1.0000,\n",
      "         -1.0000,  -1.0000,  -1.0000,  -1.0000,  -1.0000,  -0.5000,  -0.5000,\n",
      "         -0.5000,  -0.5000,  -0.5000,  -0.5000,  -0.3600,  -0.3600,  -0.3600,\n",
      "         -0.3600,  -0.3600,  -0.3600,  -0.3600,  -0.3600,  -0.3600,  -1.0000,\n",
      "         -1.0000,  -1.0000,  -1.0000,  -1.0000,  -1.0000,  -1.0000,  -1.0000,\n",
      "         -1.0000,  -1.0000,  -1.0000,  -1.0000,  -1.0000,  -1.0000,  -1.0000,\n",
      "         -1.0000,  -1.0000,  -1.0000], device='cuda:0')\n",
      "\tHigh: tensor([ 1.0000,  1.5700,  0.0000,  1.0000,  1.5700,  0.0000,  1.0000,  1.5700,\n",
      "         0.0000, 10.0000, 10.0000, 10.0000, 10.0000, 10.0000, 10.0000, 10.0000,\n",
      "        10.0000, 10.0000,  0.4000,  0.4000,  0.5000,  1.0000,  1.0000,  1.0000,\n",
      "         1.0000,  0.2000,  0.2000,  0.2000,  0.2000,  0.2000,  0.2000,  0.4000,\n",
      "         0.4000,  0.5000,  1.0000,  1.0000,  1.0000,  1.0000,  0.2000,  0.2000,\n",
      "         0.2000,  0.2000,  0.2000,  0.2000,  0.4000,  0.4000,  0.5000,  1.0000,\n",
      "         1.0000,  1.0000,  1.0000,  0.2000,  0.2000,  0.2000,  0.2000,  0.2000,\n",
      "         0.2000,  0.4000,  0.4000,  0.5000,  0.4000,  0.4000,  0.5000,  0.4000,\n",
      "         0.4000,  0.5000,  0.3000,  0.3000,  0.3000,  1.0000,  1.0000,  1.0000,\n",
      "         1.0000,  0.3000,  0.3000,  0.3000,  1.0000,  1.0000,  1.0000,  1.0000,\n",
      "         1.0000,  1.0000,  1.0000,  1.0000,  1.0000,  1.0000,  1.0000,  1.0000,\n",
      "         1.0000,  0.5000,  0.5000,  0.5000,  0.5000,  0.5000,  0.5000,  0.3600,\n",
      "         0.3600,  0.3600,  0.3600,  0.3600,  0.3600,  0.3600,  0.3600,  0.3600,\n",
      "         1.0000,  1.0000,  1.0000,  1.0000,  1.0000,  1.0000,  1.0000,  1.0000,\n",
      "         1.0000,  1.0000,  1.0000,  1.0000,  1.0000,  1.0000,  1.0000,  1.0000,\n",
      "         1.0000,  1.0000], device='cuda:0')\n",
      "MDP Raw action bounds\n",
      "\tLow: tensor([-0.3600, -0.3600, -0.3600, -0.3600, -0.3600, -0.3600, -0.3600, -0.3600,\n",
      "        -0.3600], device='cuda:0')\n",
      "\tHigh: tensor([0.3600, 0.3600, 0.3600, 0.3600, 0.3600, 0.3600, 0.3600, 0.3600, 0.3600],\n",
      "       device='cuda:0')\n"
     ]
    }
   ],
   "source": [
    "device = cfg.sim_device\n",
    "envs = create_env_thunk()"
   ]
  },
  {
   "cell_type": "code",
   "execution_count": 7,
   "id": "0f2d8782",
   "metadata": {},
   "outputs": [],
   "source": [
    "def get_force_qp_data(ftip_pos: torch.Tensor, object_pose: torch.Tensor, \n",
    "                      total_force_des: torch.Tensor, torque_ref: torch.Tensor, jacobian: torch.Tensor,\n",
    "                      weights: List[float]):\n",
    "    # get ftip positin in the object frame\n",
    "    batch_size, num_ftip, _ = ftip_pos.shape\n",
    "    num_vars = num_ftip * 3\n",
    "\n",
    "    p = SE3_inverse_transform(object_pose.repeat_interleave(3, dim=0), ftip_pos.view(-1, 3))\n",
    "    contact_normals = get_cube_contact_normals(p)\n",
    "    object_orn = quat2mat(object_pose[:, 3:])\n",
    "    jacobian_transpose = torch.transpose(jacobian, 1, 2)\n",
    "    \n",
    "    \n",
    "    # force cost\n",
    "    R = get_contact_frame_orn(contact_normals)\n",
    "    R_vstacked = R.transpose(1, 2).reshape(-1, 3 * num_ftip, 3)\n",
    "    Q1 = R_vstacked @ R_vstacked.transpose(1, 2)\n",
    "    total_force_des_object_frame = bmv(object_orn.transpose(1,2), total_force_des)\n",
    "    q1 = -2 * bmv(R_vstacked, total_force_des_object_frame)\n",
    "    \n",
    "    # torque cost\n",
    "    pxR = vec2skewsym_mat(p) @ R\n",
    "    pxR_vstacked = pxR.transpose(1, 2).reshape(-1, 3 * num_ftip, 3)\n",
    "    Q2 = pxR_vstacked @ pxR_vstacked.transpose(1, 2)\n",
    "    \n",
    "    # joint torque cost\n",
    "    R_reshaped = R.view(batch_size, num_ftip, 3, 3)\n",
    "    R_diag = torch.zeros(batch_size, 9, 9).to(ftip_pos.device)\n",
    "    for i in range(num_ftip):\n",
    "        R_diag[:, i*3:i*3 + 3, i*3:i*3 + 3] = R_reshaped[:, i]\n",
    "    object_orn_diag = torch.zeros(batch_size, 9, 9).to(ftip_pos.device)\n",
    "    for i in range(num_ftip):\n",
    "        object_orn_diag[:, i*3:i*3 + 3, i*3:i*3 + 3] = object_orn\n",
    "    A = jacobian_transpose @ object_orn_diag @ R_diag\n",
    "    Q3 = torch.transpose(A, 1, 2) @ A\n",
    "    q3 = -2 * bmv(A, torque_ref)\n",
    "    \n",
    "    # regularization\n",
    "    Q4 = 1e-4 * torch.eye(3 * num_ftip).repeat(batch_size, 1, 1).to(ftip_pos.device)\n",
    "    \n",
    "    # If any of contact normals == 0, set the desired force and torque weights to zero\n",
    "    reshaped_tensor = Q1.view(batch_size, -1)\n",
    "    mask = torch.any(reshaped_tensor[:, ::num_vars+1] == 0, dim=1)\n",
    "\n",
    "    # construct total cost\n",
    "    weights = torch.tensor(weights, dtype=torch.float32, device=ftip_pos.device).repeat(batch_size, 1)\n",
    "    w1, w2, w3 = weights.split(1, dim=1)\n",
    "    w1[mask] = 0\n",
    "    w2[mask] = 0\n",
    "    w3[mask] = 0\n",
    "    \n",
    "    q = w1*q1 + w3*q3\n",
    "    \n",
    "    w1 = w1.view(batch_size, 1, 1)\n",
    "    w2 = w2.view(batch_size, 1, 1)\n",
    "    w3 = w3.view(batch_size, 1, 1)\n",
    "    \n",
    "    Q = w1 * Q1 + w2 * Q2 + w3 * Q3 + Q4\n",
    "    \n",
    "    return Q, q, R_vstacked, pxR_vstacked, contact_normals"
   ]
  },
  {
   "cell_type": "code",
   "execution_count": 8,
   "id": "c554ca88",
   "metadata": {},
   "outputs": [],
   "source": [
    "# get ftip states\n",
    "envs.reset_idx(torch.arange(cfg.num_envs))\n",
    "N = 700\n",
    "action_buffer = torch.zeros(N, 9).to(device)\n",
    "projected_torque_buffer = torch.zeros(N, 9).to(device)\n",
    "\n",
    "ftip_pos_buffer = torch.zeros(N, 3, 3).to(device)\n",
    "ftip_pos_local_buffer = torch.zeros(N, 3, 3).to(device)\n",
    "object_pose_buffer = torch.zeros(N, 7).to(device)\n",
    "contact_normals_buffer = []\n",
    "\n",
    "q_buffer = torch.zeros(N, 9).to(device)\n",
    "dq_buffer = torch.zeros(N, 9).to(device)\n",
    "obs, rwds, resets, info = envs.step(torch.zeros(cfg.num_envs, 9))"
   ]
  },
  {
   "cell_type": "code",
   "execution_count": 9,
   "id": "2055321e",
   "metadata": {
    "scrolled": true
   },
   "outputs": [],
   "source": [
    "# construct force QP\n",
    "batch_size = cfg.num_envs\n",
    "num_vars = 9\n",
    "force_lb = -1.5 * torch.ones(batch_size, num_vars)\n",
    "force_ub = 1.5 * torch.ones(batch_size, num_vars)\n",
    "\n",
    "force_qp = ForceQP(batch_size, num_vars, friction_coeff=1.0, device=device)\n",
    "force_qp_solver = FISTA(force_qp, device=device)\n",
    "max_it = 20\n",
    "\n",
    "for n in range(N):\n",
    "    q = envs._dof_position\n",
    "    dq = envs._dof_velocity\n",
    "    q_buffer[n] = q[0]\n",
    "    dq_buffer[n] = dq[0]\n",
    "    \n",
    "    ftip_state = envs._rigid_body_state[:, envs._fingertip_indices]\n",
    "    ftip_pos = ftip_state[:, :, 0:3]\n",
    "    ftip_vel = ftip_state[:, :, 7:10]\n",
    "    ftip_pos_buffer[n] = ftip_pos[0]\n",
    "    \n",
    "    object_pose = envs._object_state_history[0][:, 0:7]\n",
    "    object_position = object_pose[:, 0:3]\n",
    "    desired_object_position = envs._desired_object_poses_buf[:, 0:3]\n",
    "    object_orn = quat2mat(object_pose[:, 3:])\n",
    "    object_pose_buffer[n] = object_pose[0]\n",
    "    \n",
    "    time_idx = 0 if n < 200 else 20 * (n - 200)\n",
    "    ftip_pos_des = torch.tensor(lifting_data[time_idx]['policy']['controller']['ft_pos_des'], dtype=torch.float32).to(device)\n",
    "    ftip_vel_des = torch.tensor(lifting_data[time_idx]['policy']['controller']['ft_vel_des'], dtype=torch.float32).to(device)\n",
    "\n",
    "    ftip_pos_diff = ftip_pos_des - ftip_pos.reshape(cfg.num_envs, 9)\n",
    "    ftip_vel_diff = ftip_vel_des - ftip_vel.reshape(cfg.num_envs, 9)\n",
    "    \n",
    "    task_space_force = torch.tensor([200,200,200]*3, dtype=torch.float32, device=envs.device) * ftip_pos_diff\n",
    "    task_space_force += torch.tensor([5]*9, dtype=torch.float32, device=envs.device)  * ftip_vel_diff\n",
    "    \n",
    "    jacobian = envs.get_fingertip_jacobian_linear()\n",
    "    jacobian_transpose = torch.transpose(jacobian, 1, 2)\n",
    "    \n",
    "#     action = -0.36 + 0.72 * torch.rand(cfg.num_envs, 9).to(device)\n",
    "#     task_space_force = -1.5 + 3. * torch.rand(cfg.num_envs, 9).to(device)\n",
    "    \n",
    "    torque_ref = bmv(jacobian_transpose, task_space_force)\n",
    "    \n",
    "    desired_object_acceleration = 10 * (desired_object_position - object_position)\n",
    "    desired_object_acceleration += torch.tensor([0, 0, 9.81]).to(desired_object_acceleration.device)\n",
    "    total_force_des = 0.08 * desired_object_acceleration\n",
    "    force_qp_cost_weights = [1, 200, 0.01]\n",
    "    Q, q, R_vstacked, pxR_vstacked, contact_normals = get_force_qp_data(ftip_pos, \n",
    "                                                                        object_pose,\n",
    "                                                                        total_force_des,\n",
    "                                                                        torque_ref, \n",
    "                                                                        jacobian,\n",
    "                                                                        force_qp_cost_weights)\n",
    "    \n",
    "    force_qp_solver.prob.set_data(Q, q, force_lb, force_ub)\n",
    "    force_qp_solver.reset()\n",
    "    for i in range(max_it):\n",
    "        force_qp_solver.step()\n",
    "    ftip_force_contact_frame = force_qp_solver.prob.yk.clone()\n",
    "\n",
    "    # convert force to the world frame\n",
    "    R = R_vstacked.reshape(-1, 3, 3).transpose(1, 2)\n",
    "    ftip_force_object_frame = stacked_bmv(R, ftip_force_contact_frame)\n",
    "    object_orn = quat2mat(object_pose[:, 3:7]).repeat(3, 1, 1)\n",
    "    task_space_force2 = stacked_bmv(object_orn, ftip_force_object_frame)\n",
    "    \n",
    "    action = torque_ref + bmv(jacobian_transpose, task_space_force2)\n",
    "    \n",
    "    action_buffer[n] = action[0]\n",
    "#     projected_torque_buffer[n] = projected_torque[0]\n",
    "    obs, rwds, resets, info = envs.step(action)"
   ]
  },
  {
   "cell_type": "code",
   "execution_count": 10,
   "id": "3f05a04f",
   "metadata": {},
   "outputs": [],
   "source": [
    "# weights = force_qp_cost_weights\n",
    "# # get ftip positin in the object frame\n",
    "# batch_size, num_ftip, _ = ftip_pos.shape\n",
    "# num_vars = num_ftip * 3\n",
    "\n",
    "# p = SE3_inverse_transform(object_pose.repeat_interleave(3, dim=0), ftip_pos.view(-1, 3))\n",
    "# contact_normals = get_cube_contact_normals(p)\n",
    "# object_orn = quat2mat(object_pose[:, 3:])\n",
    "# jacobian_transpose = torch.transpose(jacobian, 1, 2)\n",
    "\n",
    "\n",
    "# # force cost\n",
    "# R = get_contact_frame_orn(contact_normals)\n",
    "# R_vstacked = R.transpose(1, 2).reshape(-1, 3 * num_ftip, 3)\n",
    "# Q1 = R_vstacked @ R_vstacked.transpose(1, 2)\n",
    "# total_force_des_object_frame = bmv(object_orn.transpose(1,2), total_force_des)\n",
    "# q1 = -2 * bmv(R_vstacked, total_force_des_object_frame)\n",
    "\n",
    "# # torque cost\n",
    "# pxR = vec2skewsym_mat(p) @ R\n",
    "# pxR_vstacked = pxR.transpose(1, 2).reshape(-1, 3 * num_ftip, 3)\n",
    "# Q2 = pxR_vstacked @ pxR_vstacked.transpose(1, 2)\n",
    "\n",
    "# # joint torque cost\n",
    "# R_reshaped = R.view(batch_size, num_ftip, 3, 3)\n",
    "# R_diag = torch.zeros(batch_size, 9, 9).to(ftip_pos.device)\n",
    "# for i in range(num_ftip):\n",
    "#     R_diag[:, i*3:i*3 + 3, i*3:i*3 + 3] = R_reshaped[:, i]\n",
    "# object_orn_diag = torch.zeros(batch_size, 9, 9).to(ftip_pos.device)\n",
    "# for i in range(num_ftip):\n",
    "#     object_orn_diag[:, i*3:i*3 + 3, i*3:i*3 + 3] = object_orn\n",
    "# A = jacobian_transpose @ object_orn_diag @ R_diag\n",
    "# Q3 = torch.transpose(A, 1, 2) @ A\n",
    "# q3 = -2 * bmv(A, action)\n",
    "\n",
    "# # regularization\n",
    "# Q4 = 1e-4 * torch.eye(3 * num_ftip).repeat(batch_size, 1, 1).to(ftip_pos.device)\n",
    "\n",
    "# # If any of contact normals == 0, set the desired force and torque weights to zero\n",
    "# reshaped_tensor = Q1.view(batch_size, -1)\n",
    "# mask = torch.any(reshaped_tensor[:, ::num_vars+1] == 0, dim=1)\n",
    "\n",
    "# # construct total cost\n",
    "# weights = torch.tensor(weights, dtype=torch.float32, device=ftip_pos.device).repeat(batch_size, 1)\n",
    "# w1, w2, w3 = weights.split(1, dim=1)\n",
    "# w1[mask] = 0\n",
    "# w2[mask] = 0\n",
    "# w3[mask] = 0\n",
    "\n",
    "# q = w1*q1 + w3*q3\n",
    "\n",
    "# w1 = w1.view(batch_size, 1, 1)\n",
    "# w2 = w2.view(batch_size, 1, 1)\n",
    "# w3 = w3.view(batch_size, 1, 1)\n",
    "\n",
    "# Q = w1 * Q1 + w2 * Q2 + w3 * Q3 + Q4"
   ]
  },
  {
   "cell_type": "code",
   "execution_count": 11,
   "id": "dcf51666",
   "metadata": {},
   "outputs": [
    {
     "data": {
      "text/plain": [
       "tensor([[-0.4914, -0.2504,  9.3608],\n",
       "        [-0.4103, -0.2710,  9.2257],\n",
       "        [-0.4721, -0.3734,  9.3450],\n",
       "        [-0.4516, -0.3525,  9.3456]], device='cuda:0')"
      ]
     },
     "execution_count": 11,
     "metadata": {},
     "output_type": "execute_result"
    }
   ],
   "source": [
    "task_space_force[:, :3] + task_space_force[:, 3:6] + task_space_force[:, 6:]"
   ]
  },
  {
   "cell_type": "code",
   "execution_count": 12,
   "id": "6f0ca093",
   "metadata": {},
   "outputs": [
    {
     "data": {
      "text/plain": [
       "tensor([[-0.0128, -0.0326,  0.7052],\n",
       "        [-0.0741, -0.0496,  0.7072],\n",
       "        [ 0.0122, -0.0397,  0.7281],\n",
       "        [-0.0275,  0.0316,  0.7336]], device='cuda:0')"
      ]
     },
     "execution_count": 12,
     "metadata": {},
     "output_type": "execute_result"
    }
   ],
   "source": [
    "task_space_force2[:, :3] + task_space_force2[:, 3:6] + task_space_force2[:, 6:]"
   ]
  },
  {
   "cell_type": "code",
   "execution_count": 13,
   "id": "9df8b6a1",
   "metadata": {},
   "outputs": [
    {
     "data": {
      "text/plain": [
       "tensor([[ 0.0349, -0.0238,  0.7852],\n",
       "        [-0.0322, -0.0329,  0.7891],\n",
       "        [ 0.0041, -0.0212,  0.8120],\n",
       "        [ 0.0098,  0.0459,  0.7991]], device='cuda:0')"
      ]
     },
     "execution_count": 13,
     "metadata": {},
     "output_type": "execute_result"
    }
   ],
   "source": [
    "total_force_des"
   ]
  },
  {
   "cell_type": "code",
   "execution_count": 14,
   "id": "5eb521ea",
   "metadata": {},
   "outputs": [
    {
     "data": {
      "text/plain": [
       "tensor([[-0.0737, -0.5522, -0.7387,  0.3294, -0.0348, -0.2960, -0.3685,  0.2139,\n",
       "         -0.2433],\n",
       "        [-0.1334, -0.5498, -0.7516,  0.3453, -0.0424, -0.2843, -0.3636,  0.2557,\n",
       "         -0.2209],\n",
       "        [-0.1297, -0.5467, -0.7616,  0.3587, -0.0647, -0.2944, -0.3166,  0.2792,\n",
       "         -0.1994],\n",
       "        [-0.0424, -0.5596, -0.7487,  0.3585, -0.0368, -0.2888, -0.3139,  0.2134,\n",
       "         -0.2230]], device='cuda:0')"
      ]
     },
     "execution_count": 14,
     "metadata": {},
     "output_type": "execute_result"
    }
   ],
   "source": [
    "torque_ref"
   ]
  },
  {
   "cell_type": "code",
   "execution_count": 15,
   "id": "c15438a9",
   "metadata": {},
   "outputs": [
    {
     "data": {
      "text/plain": [
       "tensor([[-0.0836, -0.6991, -0.8842,  0.4351, -0.1077, -0.3821, -0.3774,  0.2495,\n",
       "         -0.1668],\n",
       "        [-0.1313, -0.6965, -0.8941,  0.4448, -0.1131, -0.3680, -0.3752,  0.2904,\n",
       "         -0.1482],\n",
       "        [-0.1381, -0.7007, -0.9130,  0.4659, -0.1300, -0.3768, -0.3314,  0.3126,\n",
       "         -0.1250],\n",
       "        [-0.0491, -0.7141, -0.9002,  0.4722, -0.1099, -0.3749, -0.3360,  0.2446,\n",
       "         -0.1498]], device='cuda:0')"
      ]
     },
     "execution_count": 15,
     "metadata": {},
     "output_type": "execute_result"
    }
   ],
   "source": [
    "action"
   ]
  },
  {
   "cell_type": "code",
   "execution_count": 16,
   "id": "b4ae68c2",
   "metadata": {},
   "outputs": [
    {
     "data": {
      "text/plain": [
       "tensor([[ 4.8009e-02, -6.5955e-01,  6.6094e-01,  5.5346e-02,  6.2345e-01,\n",
       "          6.0599e-01, -1.1617e-01,  3.5135e-03, -5.6169e-01],\n",
       "        [-4.6900e-04, -6.5746e-01,  6.5668e-01,  4.6350e-02,  5.9382e-01,\n",
       "          5.8603e-01, -1.2001e-01,  1.4013e-02, -5.3553e-01],\n",
       "        [ 4.4899e-02, -6.8762e-01,  6.8902e-01,  8.7532e-02,  6.1315e-01,\n",
       "          6.0062e-01, -1.2021e-01,  3.4748e-02, -5.6153e-01],\n",
       "        [ 3.1576e-02, -6.9115e-01,  6.9037e-01,  7.2784e-02,  6.5625e-01,\n",
       "          6.1220e-01, -1.3182e-01,  6.6553e-02, -5.6895e-01]], device='cuda:0')"
      ]
     },
     "execution_count": 16,
     "metadata": {},
     "output_type": "execute_result"
    }
   ],
   "source": [
    "task_space_force2"
   ]
  },
  {
   "cell_type": "code",
   "execution_count": 17,
   "id": "00ea80b5",
   "metadata": {},
   "outputs": [],
   "source": [
    "zero_rows = (task_space_force2.sum(dim=1) == 0)  # find rows in M1 that are all zeros\n",
    "task_space_force2[zero_rows] = task_space_force[zero_rows]  "
   ]
  },
  {
   "cell_type": "code",
   "execution_count": 18,
   "id": "7bd702d9",
   "metadata": {},
   "outputs": [
    {
     "data": {
      "text/plain": [
       "tensor([[ 4.8009e-02, -6.5955e-01,  6.6094e-01,  5.5346e-02,  6.2345e-01,\n",
       "          6.0599e-01, -1.1617e-01,  3.5135e-03, -5.6169e-01],\n",
       "        [-4.6900e-04, -6.5746e-01,  6.5668e-01,  4.6350e-02,  5.9382e-01,\n",
       "          5.8603e-01, -1.2001e-01,  1.4013e-02, -5.3553e-01],\n",
       "        [ 4.4899e-02, -6.8762e-01,  6.8902e-01,  8.7532e-02,  6.1315e-01,\n",
       "          6.0062e-01, -1.2021e-01,  3.4748e-02, -5.6153e-01],\n",
       "        [ 3.1576e-02, -6.9115e-01,  6.9037e-01,  7.2784e-02,  6.5625e-01,\n",
       "          6.1220e-01, -1.3182e-01,  6.6553e-02, -5.6895e-01]], device='cuda:0')"
      ]
     },
     "execution_count": 18,
     "metadata": {},
     "output_type": "execute_result"
    }
   ],
   "source": [
    "task_space_force2"
   ]
  },
  {
   "cell_type": "code",
   "execution_count": null,
   "id": "30b2a8b5",
   "metadata": {},
   "outputs": [],
   "source": []
  }
 ],
 "metadata": {
  "kernelspec": {
   "display_name": "Python 3 (ipykernel)",
   "language": "python",
   "name": "python3"
  },
  "language_info": {
   "codemirror_mode": {
    "name": "ipython",
    "version": 3
   },
   "file_extension": ".py",
   "mimetype": "text/x-python",
   "name": "python",
   "nbconvert_exporter": "python",
   "pygments_lexer": "ipython3",
   "version": "3.8.16"
  }
 },
 "nbformat": 4,
 "nbformat_minor": 5
}
